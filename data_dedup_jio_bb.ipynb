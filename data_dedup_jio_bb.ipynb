{
 "cells": [
  {
   "cell_type": "code",
   "execution_count": 1,
   "id": "0c8a0cfd-5106-4a67-a8dc-45127a95a566",
   "metadata": {},
   "outputs": [],
   "source": [
    "import pandas as pd\n",
    "import matplotlib.pyplot as plt \n",
    "import seaborn as sns\n",
    "import numpy as np"
   ]
  },
  {
   "cell_type": "markdown",
   "id": "44b25e32-445f-43a6-a0f6-ecbbbc8cdca5",
   "metadata": {
    "tags": []
   },
   "source": [
    "# Importing data from jio"
   ]
  },
  {
   "cell_type": "code",
   "execution_count": 2,
   "id": "04bc6998-2655-4177-af6e-2e86174f89ab",
   "metadata": {},
   "outputs": [],
   "source": [
    "data_jio = pd.read_excel('./data/ondc_drive_jio_bb/jiomart_groceries.xlsx')"
   ]
  },
  {
   "cell_type": "code",
   "execution_count": 3,
   "id": "4168c59f-aa39-4a19-85d9-53842b0bf4ed",
   "metadata": {},
   "outputs": [
    {
     "data": {
      "text/plain": [
       "(46118, 2155)"
      ]
     },
     "execution_count": 3,
     "metadata": {},
     "output_type": "execute_result"
    }
   ],
   "source": [
    "data_jio.shape"
   ]
  },
  {
   "cell_type": "code",
   "execution_count": 4,
   "id": "03b9557b-107c-4789-a9f9-14803374118c",
   "metadata": {},
   "outputs": [
    {
     "data": {
      "text/plain": [
       "Index(['l4Codes', 'category', 'MRP', 'discount', 'Long Product Description',\n",
       "       'Manufacturer', 'link', 'Images', 'Product Name', 'Price',\n",
       "       'discount_rate', 'Short Product Description', 'Brand', 'seller_name',\n",
       "       'manufacturer email', 'manufacturer website', 'sold by',\n",
       "       'jiomartcustomerÂ careÂ email', 'jiomartcustomerÂ careÂ phone',\n",
       "       'Country Of Origin', 'manufactureraddress', 'food type', 'Net Quantity',\n",
       "       'Preservatives', 'preservation type', 'fssai approved',\n",
       "       'veg/non-veg fssai declaration logo', 'place of storage & temperature',\n",
       "       'allergen', 'benefits'],\n",
       "      dtype='object')"
      ]
     },
     "execution_count": 4,
     "metadata": {},
     "output_type": "execute_result"
    }
   ],
   "source": [
    "data_jio.columns[:30]"
   ]
  },
  {
   "cell_type": "code",
   "execution_count": 5,
   "id": "96a30a70-ccb0-4ac4-a282-90b088a27e82",
   "metadata": {},
   "outputs": [],
   "source": [
    "data_jio = data_jio[['Brand','Product Name','Net Quantity','Price']]"
   ]
  },
  {
   "cell_type": "code",
   "execution_count": 6,
   "id": "4a2202d7-a533-4f08-a91d-b5f9e4571b7d",
   "metadata": {},
   "outputs": [
    {
     "data": {
      "text/plain": [
       "(46118, 4)"
      ]
     },
     "execution_count": 6,
     "metadata": {},
     "output_type": "execute_result"
    }
   ],
   "source": [
    "data_jio.shape"
   ]
  },
  {
   "cell_type": "code",
   "execution_count": 7,
   "id": "f84961e6-7c20-40a1-b1d4-d9b6174ee8b6",
   "metadata": {},
   "outputs": [
    {
     "data": {
      "text/plain": [
       "Brand           object\n",
       "Product Name    object\n",
       "Net Quantity    object\n",
       "Price           object\n",
       "dtype: object"
      ]
     },
     "execution_count": 7,
     "metadata": {},
     "output_type": "execute_result"
    }
   ],
   "source": [
    "data_jio.dtypes"
   ]
  },
  {
   "cell_type": "code",
   "execution_count": 8,
   "id": "fa44bbbf-d08b-446c-826a-ef056fdfb712",
   "metadata": {},
   "outputs": [
    {
     "data": {
      "text/plain": [
       "Brand               1\n",
       "Product Name        1\n",
       "Net Quantity    18203\n",
       "Price               1\n",
       "dtype: int64"
      ]
     },
     "execution_count": 8,
     "metadata": {},
     "output_type": "execute_result"
    }
   ],
   "source": [
    "data_jio.isnull().sum()"
   ]
  },
  {
   "cell_type": "code",
   "execution_count": 9,
   "id": "499b065d-54ff-4d5b-a570-18bc8b75c6f4",
   "metadata": {},
   "outputs": [
    {
     "data": {
      "text/plain": [
       "Brand               1\n",
       "Product Name        1\n",
       "Net Quantity    18203\n",
       "Price               1\n",
       "dtype: int64"
      ]
     },
     "execution_count": 9,
     "metadata": {},
     "output_type": "execute_result"
    }
   ],
   "source": [
    "data_jio.isna().sum()"
   ]
  },
  {
   "cell_type": "code",
   "execution_count": 10,
   "id": "103f3a64-8a0e-4123-b199-e091765a15f8",
   "metadata": {},
   "outputs": [
    {
     "data": {
      "text/plain": [
       "Brand            3927\n",
       "Product Name    45515\n",
       "Net Quantity     2641\n",
       "Price            2384\n",
       "dtype: int64"
      ]
     },
     "execution_count": 10,
     "metadata": {},
     "output_type": "execute_result"
    }
   ],
   "source": [
    "data_jio.nunique()"
   ]
  },
  {
   "cell_type": "code",
   "execution_count": 11,
   "id": "627524b6-ea5d-496f-a7c2-605f2b093aa6",
   "metadata": {},
   "outputs": [
    {
     "data": {
      "text/html": [
       "<div>\n",
       "<style scoped>\n",
       "    .dataframe tbody tr th:only-of-type {\n",
       "        vertical-align: middle;\n",
       "    }\n",
       "\n",
       "    .dataframe tbody tr th {\n",
       "        vertical-align: top;\n",
       "    }\n",
       "\n",
       "    .dataframe thead th {\n",
       "        text-align: right;\n",
       "    }\n",
       "</style>\n",
       "<table border=\"1\" class=\"dataframe\">\n",
       "  <thead>\n",
       "    <tr style=\"text-align: right;\">\n",
       "      <th></th>\n",
       "      <th>Brand</th>\n",
       "      <th>Product Name</th>\n",
       "      <th>Net Quantity</th>\n",
       "      <th>Price</th>\n",
       "    </tr>\n",
       "  </thead>\n",
       "  <tbody>\n",
       "    <tr>\n",
       "      <th>0</th>\n",
       "      <td>Bru</td>\n",
       "      <td>BRU Instant Coffee 50 g</td>\n",
       "      <td>50 g</td>\n",
       "      <td>83</td>\n",
       "    </tr>\n",
       "    <tr>\n",
       "      <th>1</th>\n",
       "      <td>Nescafe</td>\n",
       "      <td>Nescafe Classic Instant Coffee 50 g</td>\n",
       "      <td>50 g</td>\n",
       "      <td>135</td>\n",
       "    </tr>\n",
       "    <tr>\n",
       "      <th>2</th>\n",
       "      <td>Nescafe</td>\n",
       "      <td>Nescafe Sunrise Premium Instant Coffee Powder ...</td>\n",
       "      <td>50 g</td>\n",
       "      <td>88</td>\n",
       "    </tr>\n",
       "    <tr>\n",
       "      <th>3</th>\n",
       "      <td>Bru</td>\n",
       "      <td>BRU Green Label Filter Coffee Powder 500 g</td>\n",
       "      <td>500 g</td>\n",
       "      <td>176</td>\n",
       "    </tr>\n",
       "    <tr>\n",
       "      <th>4</th>\n",
       "      <td>Bru</td>\n",
       "      <td>BRU Instant Coffee Powder 100 g</td>\n",
       "      <td>100 g</td>\n",
       "      <td>127</td>\n",
       "    </tr>\n",
       "  </tbody>\n",
       "</table>\n",
       "</div>"
      ],
      "text/plain": [
       "     Brand                                       Product Name Net Quantity  \\\n",
       "0      Bru                            BRU Instant Coffee 50 g         50 g   \n",
       "1  Nescafe                Nescafe Classic Instant Coffee 50 g         50 g   \n",
       "2  Nescafe  Nescafe Sunrise Premium Instant Coffee Powder ...         50 g   \n",
       "3      Bru         BRU Green Label Filter Coffee Powder 500 g        500 g   \n",
       "4      Bru                    BRU Instant Coffee Powder 100 g        100 g   \n",
       "\n",
       "  Price  \n",
       "0    83  \n",
       "1   135  \n",
       "2    88  \n",
       "3   176  \n",
       "4   127  "
      ]
     },
     "execution_count": 11,
     "metadata": {},
     "output_type": "execute_result"
    }
   ],
   "source": [
    "data_jio.head()"
   ]
  },
  {
   "cell_type": "code",
   "execution_count": 12,
   "id": "5859d9f4-3f0c-4a0f-acf6-90cbcbf7df07",
   "metadata": {},
   "outputs": [
    {
     "data": {
      "text/html": [
       "<div>\n",
       "<style scoped>\n",
       "    .dataframe tbody tr th:only-of-type {\n",
       "        vertical-align: middle;\n",
       "    }\n",
       "\n",
       "    .dataframe tbody tr th {\n",
       "        vertical-align: top;\n",
       "    }\n",
       "\n",
       "    .dataframe thead th {\n",
       "        text-align: right;\n",
       "    }\n",
       "</style>\n",
       "<table border=\"1\" class=\"dataframe\">\n",
       "  <thead>\n",
       "    <tr style=\"text-align: right;\">\n",
       "      <th></th>\n",
       "      <th>Brand</th>\n",
       "      <th>Product Name</th>\n",
       "      <th>Net Quantity</th>\n",
       "      <th>Price</th>\n",
       "    </tr>\n",
       "  </thead>\n",
       "  <tbody>\n",
       "    <tr>\n",
       "      <th>count</th>\n",
       "      <td>46117</td>\n",
       "      <td>46117</td>\n",
       "      <td>27915</td>\n",
       "      <td>46117</td>\n",
       "    </tr>\n",
       "    <tr>\n",
       "      <th>unique</th>\n",
       "      <td>3927</td>\n",
       "      <td>45515</td>\n",
       "      <td>2641</td>\n",
       "      <td>2384</td>\n",
       "    </tr>\n",
       "    <tr>\n",
       "      <th>top</th>\n",
       "      <td>Kuber Industries</td>\n",
       "      <td>FASHION BIZZ WOODEN KEY HOLDER WALL HANGING</td>\n",
       "      <td>1</td>\n",
       "      <td>299</td>\n",
       "    </tr>\n",
       "    <tr>\n",
       "      <th>freq</th>\n",
       "      <td>849</td>\n",
       "      <td>22</td>\n",
       "      <td>5678</td>\n",
       "      <td>916</td>\n",
       "    </tr>\n",
       "  </tbody>\n",
       "</table>\n",
       "</div>"
      ],
      "text/plain": [
       "                   Brand                                 Product Name  \\\n",
       "count              46117                                        46117   \n",
       "unique              3927                                        45515   \n",
       "top     Kuber Industries  FASHION BIZZ WOODEN KEY HOLDER WALL HANGING   \n",
       "freq                 849                                           22   \n",
       "\n",
       "        Net Quantity  Price  \n",
       "count          27915  46117  \n",
       "unique          2641   2384  \n",
       "top                1    299  \n",
       "freq            5678    916  "
      ]
     },
     "execution_count": 12,
     "metadata": {},
     "output_type": "execute_result"
    }
   ],
   "source": [
    "data_jio.describe()"
   ]
  },
  {
   "cell_type": "code",
   "execution_count": 13,
   "id": "b0cc6760-f4bd-4672-9db6-effd5062e88e",
   "metadata": {},
   "outputs": [],
   "source": [
    "idx_int_brand=[]\n",
    "for value in data_jio['Brand'].values:\n",
    "    if not isinstance(value,str):\n",
    "        #print(type(value))\n",
    "        if len(np.where(data_jio['Brand']==value)[0])>0:\n",
    "            idx_int_brand.append(np.where(data_jio['Brand']==value)[0][0])"
   ]
  },
  {
   "cell_type": "code",
   "execution_count": 14,
   "id": "f9623912-2277-410c-805a-ac87b66d7276",
   "metadata": {},
   "outputs": [
    {
     "data": {
      "text/plain": [
       "array([  380, 34323, 41699], dtype=int64)"
      ]
     },
     "execution_count": 14,
     "metadata": {},
     "output_type": "execute_result"
    }
   ],
   "source": [
    "np.unique(idx_int_brand)"
   ]
  },
  {
   "cell_type": "code",
   "execution_count": 15,
   "id": "aac9e6b3-9d88-4399-a416-f93d1007edcc",
   "metadata": {},
   "outputs": [],
   "source": [
    "idx_null_brand=data_jio[data_jio['Brand'].isnull()].index.tolist()"
   ]
  },
  {
   "cell_type": "code",
   "execution_count": 16,
   "id": "0c8b7892-5042-46d0-a010-e15a99885127",
   "metadata": {},
   "outputs": [
    {
     "data": {
      "text/plain": [
       "[46117]"
      ]
     },
     "execution_count": 16,
     "metadata": {},
     "output_type": "execute_result"
    }
   ],
   "source": [
    "idx_null_brand"
   ]
  },
  {
   "cell_type": "code",
   "execution_count": 17,
   "id": "9ddb700c-5fd4-4180-a515-b786dc8aac76",
   "metadata": {},
   "outputs": [
    {
     "name": "stdout",
     "output_type": "stream",
     "text": [
      "(46114, 4)\n"
     ]
    }
   ],
   "source": [
    "data_jio.drop(index=np.unique(idx_int_brand),inplace=True)\n",
    "data_jio.drop(index=idx_null_brand,inplace=True)\n",
    "\n",
    "print(data_jio.shape)"
   ]
  },
  {
   "cell_type": "code",
   "execution_count": 18,
   "id": "c0472e68-6a2c-4368-ad8a-ea714c700086",
   "metadata": {},
   "outputs": [],
   "source": [
    "idx_int_product_name=[]\n",
    "for value in data_jio['Product Name'].values:\n",
    "    if not isinstance(value,str):\n",
    "        #print(type(value))\n",
    "        if len(np.where(data_jio['Product Name']==value)[0])>0:\n",
    "            idx_int_product_name.append(np.where(data_jio['Product Name']==value)[0][0])"
   ]
  },
  {
   "cell_type": "code",
   "execution_count": 19,
   "id": "151259d1-4082-4196-a2c9-6ee7676ac2cf",
   "metadata": {},
   "outputs": [
    {
     "data": {
      "text/plain": [
       "[36106]"
      ]
     },
     "execution_count": 19,
     "metadata": {},
     "output_type": "execute_result"
    }
   ],
   "source": [
    "idx_int_product_name"
   ]
  },
  {
   "cell_type": "code",
   "execution_count": 20,
   "id": "9334bd0f-39ff-4439-85b1-004f6fba4234",
   "metadata": {},
   "outputs": [],
   "source": [
    "idx_null_product_name=data_jio[data_jio['Product Name'].isnull()].index.tolist()"
   ]
  },
  {
   "cell_type": "code",
   "execution_count": 21,
   "id": "ce6cde8e-3e03-48a3-89ab-0fc1df577cd9",
   "metadata": {},
   "outputs": [
    {
     "data": {
      "text/plain": [
       "[]"
      ]
     },
     "execution_count": 21,
     "metadata": {},
     "output_type": "execute_result"
    }
   ],
   "source": [
    "idx_null_product_name"
   ]
  },
  {
   "cell_type": "code",
   "execution_count": 22,
   "id": "52c1d6da-22c5-45ab-863a-f4f96e858205",
   "metadata": {},
   "outputs": [
    {
     "name": "stdout",
     "output_type": "stream",
     "text": [
      "(46113, 4)\n"
     ]
    }
   ],
   "source": [
    "data_jio.drop(index=np.unique(idx_int_product_name),inplace=True)\n",
    "data_jio.drop(index=idx_null_product_name,inplace=True)\n",
    "\n",
    "print(data_jio.shape)"
   ]
  },
  {
   "cell_type": "code",
   "execution_count": null,
   "id": "335a6507-7dde-41ad-acfb-73d3093e5ff8",
   "metadata": {},
   "outputs": [],
   "source": []
  },
  {
   "cell_type": "markdown",
   "id": "9a3a229c-a867-48d3-9f36-a8161a8fedef",
   "metadata": {
    "tags": []
   },
   "source": [
    "# Importing data from bb"
   ]
  },
  {
   "cell_type": "code",
   "execution_count": 23,
   "id": "fff1e523-8c70-4442-bebb-400ee3d749a5",
   "metadata": {},
   "outputs": [],
   "source": [
    "data_bb_1 = pd.read_csv('./data/ondc_drive_jio_bb/bb_bakery_dairy.csv')\n",
    "data_bb_2 = pd.read_csv('./data/ondc_drive_jio_bb/bb_beverages.csv')\n",
    "data_bb_3 = pd.read_csv('./data/ondc_drive_jio_bb/bb_Cleaning_Household.csv')\n",
    "data_bb_4 = pd.read_csv('./data/ondc_drive_jio_bb/bb_foodgrain_oil_masala.csv')\n",
    "data_bb_5 = pd.read_csv('./data/ondc_drive_jio_bb/bb_gourmet_breads.csv')\n",
    "data_bb_6 = pd.read_csv('./data/ondc_drive_jio_bb/bb_mom_baby.csv')"
   ]
  },
  {
   "cell_type": "code",
   "execution_count": 24,
   "id": "6af9344c-086a-492d-8dfd-401d783b4918",
   "metadata": {},
   "outputs": [
    {
     "name": "stdout",
     "output_type": "stream",
     "text": [
      "(1447, 21)\n",
      "(1755, 20)\n",
      "(4195, 17)\n",
      "(4057, 19)\n",
      "(7124, 18)\n",
      "(1082, 17)\n"
     ]
    }
   ],
   "source": [
    "print(data_bb_1.shape)\n",
    "print(data_bb_2.shape)\n",
    "print(data_bb_3.shape)\n",
    "print(data_bb_4.shape)\n",
    "print(data_bb_5.shape)\n",
    "print(data_bb_6.shape)"
   ]
  },
  {
   "cell_type": "code",
   "execution_count": 25,
   "id": "4d33c472-e9d5-4a1d-8f02-c6305a71438d",
   "metadata": {},
   "outputs": [
    {
     "name": "stdout",
     "output_type": "stream",
     "text": [
      "Index(['L4Code', 'product_name', 'brand', 'Product Quantity', 'UOM',\n",
      "       'Net Quantity', 'Pack Quantity', 'Pack Size', 'selling_price', 'mrp',\n",
      "       'image', 'ean_code', 'country_of_origin', 'manufactured_by',\n",
      "       'best_before', 'product_description', 'ingredients_info', 'how_to_use',\n",
      "       'fssai_number', 'marketed_by', 'nutritional_facts'],\n",
      "      dtype='object')\n",
      "Index(['product_name', 'brand', 'Product Quantity', 'UOM', 'selling_price',\n",
      "       'mrp', 'image', 'ean_code', 'country_of_origin', 'manufactured_by',\n",
      "       'best_before', 'product_description', 'ingredients_info',\n",
      "       'nutritional_facts', 'how_to_use', 'marketed_by', 'fssai_number',\n",
      "       'other_product_info', 'link', 'images'],\n",
      "      dtype='object')\n",
      "Index(['product_name', 'brand', 'quantity_weight', 'selling_price', 'mrp',\n",
      "       'image', 'ean_code', 'manufactured_by', 'marketed_by',\n",
      "       'country_of_origin', 'best_before', 'product_description', 'how_to_use',\n",
      "       'fssai_number', 'ingredients_info', 'link', 'images'],\n",
      "      dtype='object')\n",
      "Index(['product_name', 'brand', 'quantity_weight', 'selling_price', 'mrp',\n",
      "       'image', 'ean_code', 'manufactured_by', 'marketed_by', 'fssai_number',\n",
      "       'country_of_origin', 'best_before', 'product_description', 'how_to_use',\n",
      "       'ingredients_info', 'nutritional_facts', 'other_product_info', 'link',\n",
      "       'images'],\n",
      "      dtype='object')\n",
      "Index(['product_name', 'brand', 'quantity_weight', 'selling_price', 'mrp',\n",
      "       'link', 'images', 'ean_code', 'country_of_origin', 'fssai_number',\n",
      "       'manufactured_by', 'marketed_by', 'best_before', 'product_description',\n",
      "       'ingredients_info', 'how_to_use', 'nutritional_facts',\n",
      "       'other_product_info'],\n",
      "      dtype='object')\n",
      "Index(['product_name', 'brand', 'quantity_weight', 'selling_price', 'mrp',\n",
      "       'image', 'other_product_info', 'product_description', 'ean_code',\n",
      "       'manufactured_by', 'marketed_by', 'country_of_origin', 'best_before',\n",
      "       'how_to_use', 'ingredients_info', 'fssai_number', 'nutritional_facts'],\n",
      "      dtype='object')\n"
     ]
    }
   ],
   "source": [
    "print(data_bb_1.columns)\n",
    "print(data_bb_2.columns)\n",
    "print(data_bb_3.columns)\n",
    "print(data_bb_4.columns)\n",
    "print(data_bb_5.columns)\n",
    "print(data_bb_6.columns)"
   ]
  },
  {
   "cell_type": "code",
   "execution_count": 26,
   "id": "0feaf800-f7a3-45d9-94c0-6719abfeb45f",
   "metadata": {},
   "outputs": [],
   "source": [
    "data_bb_1 = data_bb_1[['brand','product_name','Net Quantity','selling_price']]\n",
    "data_bb_1.columns = ['Brand','Product Name', 'Net Quantity', 'Price']\n",
    "\n",
    "data_bb_2 = data_bb_2[['brand','product_name','Product Quantity','selling_price']]\n",
    "data_bb_2.columns = ['Brand','Product Name', 'Net Quantity', 'Price']\n",
    "\n",
    "data_bb_3 = data_bb_3[['brand','product_name','quantity_weight','selling_price']]\n",
    "data_bb_3.columns = ['Brand','Product Name', 'Net Quantity', 'Price']\n",
    "\n",
    "data_bb_4 = data_bb_4[['brand','product_name','quantity_weight','selling_price']]\n",
    "data_bb_4.columns = ['Brand','Product Name', 'Net Quantity', 'Price']\n",
    "\n",
    "data_bb_5 = data_bb_5[['brand','product_name','quantity_weight','selling_price']]\n",
    "data_bb_5.columns = ['Brand','Product Name', 'Net Quantity', 'Price']\n",
    "\n",
    "data_bb_6 = data_bb_6[['brand','product_name','quantity_weight','selling_price']]\n",
    "data_bb_6.columns = ['Brand','Product Name', 'Net Quantity', 'Price']"
   ]
  },
  {
   "cell_type": "code",
   "execution_count": 27,
   "id": "3a08570e-f7ef-4ad8-b095-8d33cee80f4e",
   "metadata": {},
   "outputs": [],
   "source": [
    "data_bb = pd.concat([data_bb_1,data_bb_2,data_bb_3,data_bb_4,data_bb_5,data_bb_6])"
   ]
  },
  {
   "cell_type": "code",
   "execution_count": 28,
   "id": "6551e16c-d759-4a2f-adb7-a8037ebb26f1",
   "metadata": {},
   "outputs": [
    {
     "data": {
      "text/plain": [
       "(19660, 4)"
      ]
     },
     "execution_count": 28,
     "metadata": {},
     "output_type": "execute_result"
    }
   ],
   "source": [
    "data_bb.shape"
   ]
  },
  {
   "cell_type": "code",
   "execution_count": 29,
   "id": "8ade7352-7173-442a-90d7-9affa9dd2ee3",
   "metadata": {},
   "outputs": [
    {
     "data": {
      "text/plain": [
       "Brand            object\n",
       "Product Name     object\n",
       "Net Quantity     object\n",
       "Price           float64\n",
       "dtype: object"
      ]
     },
     "execution_count": 29,
     "metadata": {},
     "output_type": "execute_result"
    }
   ],
   "source": [
    "data_bb.dtypes"
   ]
  },
  {
   "cell_type": "code",
   "execution_count": 30,
   "id": "f606c4d2-eefd-495c-a4c0-9836671f0f78",
   "metadata": {},
   "outputs": [
    {
     "data": {
      "text/plain": [
       "Brand              0\n",
       "Product Name       0\n",
       "Net Quantity    1447\n",
       "Price              0\n",
       "dtype: int64"
      ]
     },
     "execution_count": 30,
     "metadata": {},
     "output_type": "execute_result"
    }
   ],
   "source": [
    "data_bb.isnull().sum()"
   ]
  },
  {
   "cell_type": "code",
   "execution_count": 31,
   "id": "6ced95ab-84c0-4331-80d9-0e1a74c4c998",
   "metadata": {},
   "outputs": [
    {
     "data": {
      "text/plain": [
       "Brand              0\n",
       "Product Name       0\n",
       "Net Quantity    1447\n",
       "Price              0\n",
       "dtype: int64"
      ]
     },
     "execution_count": 31,
     "metadata": {},
     "output_type": "execute_result"
    }
   ],
   "source": [
    "data_bb.isna().sum()"
   ]
  },
  {
   "cell_type": "code",
   "execution_count": 32,
   "id": "1ca98431-fc3b-4be3-9655-88bf325e95a0",
   "metadata": {},
   "outputs": [
    {
     "data": {
      "text/plain": [
       "Brand            1585\n",
       "Product Name    18211\n",
       "Net Quantity     2950\n",
       "Price            2553\n",
       "dtype: int64"
      ]
     },
     "execution_count": 32,
     "metadata": {},
     "output_type": "execute_result"
    }
   ],
   "source": [
    "data_bb.nunique()"
   ]
  },
  {
   "cell_type": "code",
   "execution_count": 33,
   "id": "2ab4ed1b-986e-4d6c-9159-b4d0228d011d",
   "metadata": {},
   "outputs": [
    {
     "data": {
      "text/html": [
       "<div>\n",
       "<style scoped>\n",
       "    .dataframe tbody tr th:only-of-type {\n",
       "        vertical-align: middle;\n",
       "    }\n",
       "\n",
       "    .dataframe tbody tr th {\n",
       "        vertical-align: top;\n",
       "    }\n",
       "\n",
       "    .dataframe thead th {\n",
       "        text-align: right;\n",
       "    }\n",
       "</style>\n",
       "<table border=\"1\" class=\"dataframe\">\n",
       "  <thead>\n",
       "    <tr style=\"text-align: right;\">\n",
       "      <th></th>\n",
       "      <th>Brand</th>\n",
       "      <th>Product Name</th>\n",
       "      <th>Net Quantity</th>\n",
       "      <th>Price</th>\n",
       "    </tr>\n",
       "  </thead>\n",
       "  <tbody>\n",
       "    <tr>\n",
       "      <th>0</th>\n",
       "      <td>The Baker's Dozen</td>\n",
       "      <td>The Baker's Dozen Ragi Crackers,  100 g Pouch</td>\n",
       "      <td>NaN</td>\n",
       "      <td>95.2</td>\n",
       "    </tr>\n",
       "    <tr>\n",
       "      <th>1</th>\n",
       "      <td>The Baker's Dozen</td>\n",
       "      <td>The Baker's Dozen Garlic Bread - 100% Wholewhe...</td>\n",
       "      <td>NaN</td>\n",
       "      <td>198.0</td>\n",
       "    </tr>\n",
       "    <tr>\n",
       "      <th>2</th>\n",
       "      <td>Wingreens Farms</td>\n",
       "      <td>Wingreens Farms Baked Pita Bread Crisps - Chil...</td>\n",
       "      <td>NaN</td>\n",
       "      <td>127.5</td>\n",
       "    </tr>\n",
       "    <tr>\n",
       "      <th>3</th>\n",
       "      <td>Wingreens Farms</td>\n",
       "      <td>Wingreens Farms Baked Pita Bread Crisps - Chil...</td>\n",
       "      <td>NaN</td>\n",
       "      <td>255.0</td>\n",
       "    </tr>\n",
       "    <tr>\n",
       "      <th>4</th>\n",
       "      <td>The Baker's Dozen</td>\n",
       "      <td>The Baker's Dozen Lavash - 100% Wholewheat, 100 g</td>\n",
       "      <td>NaN</td>\n",
       "      <td>119.0</td>\n",
       "    </tr>\n",
       "  </tbody>\n",
       "</table>\n",
       "</div>"
      ],
      "text/plain": [
       "               Brand                                       Product Name  \\\n",
       "0  The Baker's Dozen      The Baker's Dozen Ragi Crackers,  100 g Pouch   \n",
       "1  The Baker's Dozen  The Baker's Dozen Garlic Bread - 100% Wholewhe...   \n",
       "2    Wingreens Farms  Wingreens Farms Baked Pita Bread Crisps - Chil...   \n",
       "3    Wingreens Farms  Wingreens Farms Baked Pita Bread Crisps - Chil...   \n",
       "4  The Baker's Dozen  The Baker's Dozen Lavash - 100% Wholewheat, 100 g   \n",
       "\n",
       "  Net Quantity  Price  \n",
       "0          NaN   95.2  \n",
       "1          NaN  198.0  \n",
       "2          NaN  127.5  \n",
       "3          NaN  255.0  \n",
       "4          NaN  119.0  "
      ]
     },
     "execution_count": 33,
     "metadata": {},
     "output_type": "execute_result"
    }
   ],
   "source": [
    "data_bb.head()"
   ]
  },
  {
   "cell_type": "code",
   "execution_count": 34,
   "id": "ebd9adde-5bc0-4e0f-9e48-2f95465020cd",
   "metadata": {},
   "outputs": [
    {
     "data": {
      "text/html": [
       "<div>\n",
       "<style scoped>\n",
       "    .dataframe tbody tr th:only-of-type {\n",
       "        vertical-align: middle;\n",
       "    }\n",
       "\n",
       "    .dataframe tbody tr th {\n",
       "        vertical-align: top;\n",
       "    }\n",
       "\n",
       "    .dataframe thead th {\n",
       "        text-align: right;\n",
       "    }\n",
       "</style>\n",
       "<table border=\"1\" class=\"dataframe\">\n",
       "  <thead>\n",
       "    <tr style=\"text-align: right;\">\n",
       "      <th></th>\n",
       "      <th>Price</th>\n",
       "    </tr>\n",
       "  </thead>\n",
       "  <tbody>\n",
       "    <tr>\n",
       "      <th>count</th>\n",
       "      <td>19660.000000</td>\n",
       "    </tr>\n",
       "    <tr>\n",
       "      <th>mean</th>\n",
       "      <td>290.921930</td>\n",
       "    </tr>\n",
       "    <tr>\n",
       "      <th>std</th>\n",
       "      <td>366.517762</td>\n",
       "    </tr>\n",
       "    <tr>\n",
       "      <th>min</th>\n",
       "      <td>5.000000</td>\n",
       "    </tr>\n",
       "    <tr>\n",
       "      <th>25%</th>\n",
       "      <td>95.000000</td>\n",
       "    </tr>\n",
       "    <tr>\n",
       "      <th>50%</th>\n",
       "      <td>195.000000</td>\n",
       "    </tr>\n",
       "    <tr>\n",
       "      <th>75%</th>\n",
       "      <td>349.000000</td>\n",
       "    </tr>\n",
       "    <tr>\n",
       "      <th>max</th>\n",
       "      <td>7290.000000</td>\n",
       "    </tr>\n",
       "  </tbody>\n",
       "</table>\n",
       "</div>"
      ],
      "text/plain": [
       "              Price\n",
       "count  19660.000000\n",
       "mean     290.921930\n",
       "std      366.517762\n",
       "min        5.000000\n",
       "25%       95.000000\n",
       "50%      195.000000\n",
       "75%      349.000000\n",
       "max     7290.000000"
      ]
     },
     "execution_count": 34,
     "metadata": {},
     "output_type": "execute_result"
    }
   ],
   "source": [
    "data_bb.describe()"
   ]
  },
  {
   "cell_type": "code",
   "execution_count": null,
   "id": "ca8f13d5-f868-40be-9139-393f4bf81e2a",
   "metadata": {},
   "outputs": [],
   "source": []
  },
  {
   "cell_type": "markdown",
   "id": "ef754df1-2cca-42e1-8809-9dab4cf0d1c3",
   "metadata": {},
   "source": [
    "# Data deduplication"
   ]
  },
  {
   "cell_type": "code",
   "execution_count": 35,
   "id": "d60cdbf8-8ff6-4d62-9db2-b6e8373385c6",
   "metadata": {},
   "outputs": [
    {
     "name": "stdout",
     "output_type": "stream",
     "text": [
      "Index(['Brand', 'Product Name', 'Net Quantity', 'Price'], dtype='object')\n",
      "Index(['Brand', 'Product Name', 'Net Quantity', 'Price'], dtype='object')\n"
     ]
    }
   ],
   "source": [
    "print(data_jio.columns)\n",
    "print(data_bb.columns)"
   ]
  },
  {
   "cell_type": "code",
   "execution_count": 36,
   "id": "9c1ff1d7-f562-4395-85e9-4ca32de7111b",
   "metadata": {},
   "outputs": [],
   "source": [
    "list_brand_jio = list(data_jio['Brand'].unique())\n",
    "list_brand_bb = list(data_bb['Brand'].unique())"
   ]
  },
  {
   "cell_type": "code",
   "execution_count": 37,
   "id": "62015168-697f-406b-8d6d-18b130e0b827",
   "metadata": {},
   "outputs": [],
   "source": [
    "list_product_name_jio = list(data_jio['Product Name'].unique())\n",
    "list_product_name_bb = list(data_bb['Product Name'].unique())"
   ]
  },
  {
   "cell_type": "code",
   "execution_count": 38,
   "id": "57a8c2e9-f9f2-4c28-b711-c4b860ac695f",
   "metadata": {},
   "outputs": [],
   "source": [
    "#list_brands_jio[1]='ashirvad'"
   ]
  },
  {
   "cell_type": "code",
   "execution_count": 39,
   "id": "32d1af0f-c990-44f1-82eb-a7c5ea748a52",
   "metadata": {},
   "outputs": [
    {
     "name": "stdout",
     "output_type": "stream",
     "text": [
      "['Bru', 'Nescafe', 'Tata Coffee', 'Kaffe', 'Pristine', 'Sunbean', 'Id', 'Aveon', 'saffola fittify', 'Beanies', 'Girnar', 'Fresh & Pure', 'Rage Coffee', 'Rage', 'Tata Coffee Quick Filter', 'TATA COFFEE GOLD', 'Ketofy', 'Hathmic', 'Bean2Brew', 'Chariot New York', 'Cherise', 'Colombian Brew', 'COLOMBIANBREWCOFFEE', 'Teddy Roosevelt', 'FIX Coffee', 'CARBAMIDE FORTE', 'Nutrovally', 'Granules n Beans', 'Davidoff', \"D'aromas\", 'THE CRAZY YOGI', 'NION', 'Amazon', 'ATLANTIS', 'Octavius', 'Mina Masala Hub', 'TGL Co.', 'CafÃ© Coffee Day', 'Bean Good', \"SIP'N UP\", 'GiTAGGED', 'Sleepy Owl', 'JAI SHOPPEE', 'Blue Tokai Coffee Roasters', 'Seven Beans Coffee Company', 'Mathas', 'eucoffia', 'Gatorade', 'Coca Cola', 'Fanta', 'Limca', 'Sprite', 'Tang', 'Pepsi', 'Mirinda', 'Red Bull', '7 Up', 'Glucon D', 'Glucon-D', 'Rooh Afza', 'Thums Up', 'Diet Coke', 'Mountain Dew', 'Monster', 'Bindu', 'Campa Cola', 'Kingfisher', 'Heineken', 'Bisleri', \"O'cean\", 'Nature Day', 'Rasna', 'Kokan Raj', \"Mala's\", 'Sams', 'Dabur', 'Tabasco', 'Yeah', 'Redbull', 'Kokan Gem', 'Alo Frut', 'Cravova', \"Jimmy's Cocktails\", 'Coolberg', 'BorÃ©cha', '3 Sisters', 'Shree Guruji', 'Lazy Cocktails & Co.', 'D-Alive', 'Dhampur Green', 'KoBu', 'Orchard Lane', 'hitkary PHARMACY', 'POTHIGAI NATURAL', 'Anveshan', 'PREM EATACY', 'SHRI MOHTA', 'Guruji', 'Mishrambu', 'WINOLA']\n",
      "[\"The Baker's Dozen\", 'Wingreens Farms', 'POLKA', 'Dibha', 'English Oven', 'Britannia', 'Sprinng', 'PRISTINE', 'Sunfeast', 'Elite', 'Winkies', 'Milk Ma', 'Orion', 'Lindberg', 'ANB AMORE', 'Bauli', 'Dream Bake', 'Sunfeast Caker', 'Brownies Basket', 'Dezire', 'Yoga Bar', 'Baskin Robbins', 'Tasties', 'Parle', 'Malkist', 'Cadbury', 'Millet Cookies', 'Nutribee', 'Nourish Organics', 'e-millet', 'CookieMan', 'Fabbox', 'Lal', \"Vig Baker's\", 'SHREEMATHA', 'BATTER CHATTER', 'Christopher Cocoa', 'Praana', 'Open Secret', 'COFFEE JOY', 'Milky Mist', 'Amul', 'Nandini', 'iD Fresho', 'Hersheys ', 'Yakult', 'Mother Dairy', 'Nestle ', 'Farm Connect', 'AKSHAYAKALPA', 'Nestle A+', 'Nandini GoodLife', 'Cavins', 'Sofit ', 'Go ', 'BRIYAS', 'So Good', 'Epigamia ', 'iD', 'Health on Plants', 'PRESIDENT ', \"D'Lecta\", 'Heritage', 'Gowardhan', 'One Good', 'Mamie Yova', 'Raw Pressery', 'Hello Tempayy', 'Cothas', 'Pure Diet', 'Nescafe ', 'Yoghino', 'Amulya', 'BORGES', 'Nutralite', 'The Laughing Cow', 'Soyfit', 'EARTHMADE ORGANIX', 'Smoodh', 'Delicious', 'Paper Boat', 'MTR', 'NUTORAS', 'Keventer', 'Storia', 'Godrej Jersey', 'FLISTAA', 'DaVinci Gourmet', 'Ultx', 'Real', 'Jus Amazin', 'RRO DAIRY', 'MOOZ', 'ARLA', 'Dairy Craft', 'Kodai Cheese', 'Kraft', 'Kara', 'Zanetti', \"John's\"]\n"
     ]
    }
   ],
   "source": [
    "print(list_brand_jio[:100])\n",
    "print(list_brand_bb[:100])"
   ]
  },
  {
   "cell_type": "code",
   "execution_count": 40,
   "id": "0c7c0844-0545-44d2-adb2-14174fddd1fa",
   "metadata": {},
   "outputs": [
    {
     "name": "stdout",
     "output_type": "stream",
     "text": [
      "['BRU Instant Coffee 50 g', 'Nescafe Classic Instant Coffee 50 g', 'Nescafe Sunrise Premium Instant Coffee Powder 50 g', 'BRU Green Label Filter Coffee Powder 500 g', 'BRU Instant Coffee Powder 100 g', 'Nescafe Classic Instant Coffee Powder 25 g', 'Nescafe Classic Instant Coffee 48 g (Jar)', 'Nescafe Classic Instant Coffee 100 g', 'Tata Grand Instant Coffee Powder 50 g', 'Kaffe Pure Instant Coffee 50 g (Buy 1 Get 1)', 'Pristine Deccan Gold Filter Coffee 500 g', 'Sunbean Beaten Coffee 125 g', 'iD Filter Coffee Decoction 150 ml', 'BRU Gold Instant Coffee Powder 100 g', 'Nescafe Sunrise Premium Instant Coffee 200 g', 'Nescafe Classic Instant Coffee Powder 500 g', 'Nescafe Gold Instant Coffee Powder 100 g', 'Nescafe Cappuccino Coffee Premix 125 g', 'Aveon Premium Instant Coffee 100 g', 'Aveon Royale Instant Coffee 100 g', 'Aveon Premium Instant Coffee 50 g', 'Aveon Royale Instant Coffee 50 g', 'Aveon Traditional Instant Coffee 50 g', 'Nescafe Gold Blend Instant Coffee 200 g', 'Nescafe Classic Instant Coffee Powder 200 g', 'Nescafe Choco Mocha Coffee Premix 20 g (5 pcs)', 'Fittify Lemongrass & Lavender Green Coffee Premix 30 g', 'Ftttify Lemon Mint Green Coffee Premix 30 g', 'Saffola Fittfy Green Coffee Instant Mix 30 g', 'Beanies Amaretto Almond Flavoured Instant Coffee 50 g', 'Beanies Chocolate Orange Flavour Instant Coffee 50 g', 'Beanies Creamy Caramel Flavoured Instant Coffee 50 g', 'Beanies Double Chocolate Flavour Instant Coffee 50 g', 'Beanies Irish Cream Flavour Instant Coffee 50 g', 'Beanies Mint Chocolate Instant Coffee Powder 50 g', 'Beanies Nutty Hazelnut Flavour Instant Coffee Powder 50 g', 'Beanies Very Vanilla Flavour Instant Coffee 50 g', 'BRU Instant Coffee Powder 200 g', 'Girnar 3 in 1 Coffee Premix 14 g x 10 pcs', 'Sunbean Beaten Coffee 250 g', 'Fresh & Pure  Pure Instant Coffee 50 g', 'Rage Creme Caramel Cold Brew Coffee Bags 50 g (5 pcs)', 'Rage Dark Chocolate Cold Brew Coffee Bags 50 g (5 pcs)', 'Rage Sparky Orange Cold Brew Coffee Bags 50 g (5 pcs)', 'Rage Assorted Cold Brew Coffee Bags 50 g (5 pcs)', 'Nescafe Classic Black Roast Coffee 100 g', 'Tata Coffee Quick Filter Coffee 50 g', 'Sunbean Beaten Caffe Strong 125 g', 'Tata Gold Pure Original Coffee 50 g', 'Ketofy - Bullet Coffee Mix (100g) | MCT Enriched Instant Soluble Coffee Beverage', 'Hathmic Kumbakonam Instant Coffee 300gms', 'Hathmic kumbakonam instant coffee 150gms', 'Hathmic Mysore Super Strong Instant Coffee Powder, 200gms', 'Hathmic Madrasi Xtra Strong Coffee, 370g', 'Hathmic Madrasi xtra strong Coffee, 100gms', 'Hathmic Gold Freeze Dried Instant Coffee, 250gms', 'Hathmic Gold Freeze Dried Instant Coffee, 140gms', 'Hathmic Gold Freeze Dried Instant Coffee, 70gms', 'Hathmic Madrasi xtra strong Coffee, 180gms', 'Bean2Brew Premium Blend Filter Coffee Powder (80:20) - 200g', 'Bean2Brew Special Blend Filter Coffee Powder (70:30)- 200g', 'Chariot New York Jamaican Blue Mountain Coffee Beans (250 gm)', 'Cherise Tapri Premium Madras Coffee Instant Premix (23 g x 7 Sachets)', 'Colombian Brew Instant Coffee Powder, 60-40 South Indian Quick Filter, 200g', 'Colombian Brew 3 in 1 Cappuccino CafÃ© Latte, Instant Coffee Powder Premix, 10 Sachets Box Pack of 2', 'Colombian Brew Coffee Premix Cappuccino, Hazelnut, Vanilla Caramel, Double Choco Mocha, Cambridge Tea Party Masala Chai Premix, Christopher Cocoa Hot Cocoa Mix 10 3 in 1 Instant Premix Sachets Box x 6', 'Colombian Brew Assorted Ground Filter Coffee Powder 6 Packs 100g Each Espresso, Hazelnut, Vanilla, Cinnamon, Nutmeg, Mint (Make Espresso, French Press, Cold Brew, Hot Brew)', 'Colombian Brew Arabica Espresso Filter Coffee Powder, Roast & Ground Strong, 250g', 'Chariot New York Arabica Rich Aroma Instant Coffee (100 g)', 'Chariot New York Rick and Dark Instant Coffee (500g)', 'Cherise Tapri Premium Madras Coffee Instant Premix, 23 g x 7 Sachets (Pack of 2)', 'Premium Blend (80:20) + Special Blend (70:30) Filter Coffee Powder , 200g + 200g', 'Bean2Brew Premium Blend (80:20) Filter Coffee Powder, 600g (Pack of 200g X 3)', 'Bean2Brew Premium Blend (80:20) Filter Coffee Powder, 800g (4 X 200g)', 'Bean2Brew Special Blend (70:30) Filter Coffee Powder, 600g (Pack of 200g X 3)', 'Bean2Brew Special Blend 800g (4 X 200g) Filter Coffee Powder (70:30)', 'Colombian Brew Blueberry Chocolate Mocha Instant Coffee, No Sugar Vegan, 50g', 'Colombian Brew Blueberry Chocolate Mocha Instant Coffee Powder, No Sugar Vegan, 100g', 'Colombian Brew Instant Coffee Powder Double Chocolate Mocha 50g, Mint Chocolate Mocha 50g, Blueberry Chocolate Mocha 50g, (Gift Pack Box) Buy 2 Get 1 Free', 'Colombian Brew Coffee Powder Mint Instant 50g, Vanilla Instant 50g , Cinnamon Instant 50g, Buy 2 Get 1 Free', 'Colombian Brew Coffee Powder High Caffeine Espresso Instant 50g, Vanilla Instant 50g , Hazelnut Instant 50g, Buy 2 Get 1 Free', 'Colombian Brew Assorted Instant Coffee Powder Box (Strong,Vanilla,Hazelnut,Caramel) (Gift Pack Box Diwali, Rakhi) 80gm', 'Colombian Brew Strong Instant Coffee Powder, 60-40 South Indian Quick Filter, 1kg Hotel Pack', 'Colombian Brew Instant Coffee Powder Pure, Strong, 1kg Hotel Pack', 'Teddy Roosevelt High Caffeine Instant Coffee Powder, Added Vitamins, 50g', 'Teddy Roosevelt Toasty Hazelnut Instant Coffee Powder, No Sugar Keto, 50g', 'Teddy Roosevelt Dark Chocolate Mocha Instant Coffee Powder, 50g', 'Teddy Roosevelt Flavoured Instant Coffee Powder, Hazelnut 50g, Vanilla Caramel 50g, Dark Chocolate Mocha 50g| 150g', 'Teddy Roosevelt Combo Gift Pack Box for Diwali, Rakhi| Hazelnut, Dark Chocolate Mocha, High Caffeine, Smooth Instant Coffee Powder, 50g Each| 200g', 'Teddy Roosevelt Assorted Instant Coffee Powder Box (Hazelnut Instant Coffee, Dark Chocolate Mocha, High Caffeine) (Gift Pack Box Diwali, Rakhi)75g', 'Colombain Brew Coffee Arabica Assorted Original, Vanilla, Hazelnut,  Mint, Cinnamon, Cold Brew 05 Brew Bags, 20 Cups', 'Colombain Brew Coffee Arabica Original Cold Brew 05 Brew Bags, 20 Cups', 'Colombian Brew 100% Arabica Green Coffee Beans Powder for Weight Loss 1Kg', 'Colombian Brew Double Chocolate Mocha CafÃ© Latte, Instant Coffee Powder Pre-mix (3 in 1) 1kg', 'Colombian Brew 3 in 1 Cappuccino CafÃ© Latte, Instant Coffee Powder Premix 1kg', 'Colombian Brew 2 in 1 Instant Coffee Powder Premix, 10 Sachets Box', 'Colombian Brew Mint Chocolate Mocha CafÃ© Latte, Instant Coffee Powder Premix (3 in 1), 10 Sachets Box Pack of 2', 'Colombian Brew Hazelnut CafÃ© Latte, Instant Coffee Powder Premix (3 in 1), 10 Sachets Box Pack of 2', 'Colombian Brew Double Chocolate Mocha CafÃ© Latte, Instant Coffee Powder Premix (3 in 1), 10 Sachets Box Pack of 2', 'Colombian Brew 3 in 1 Assorted Instant Coffee Premix CafÃ© Latte, Cappuccino, Hazelnut, Vanilla Caramel, Double Choco Mocha, 10 Sachets Box Buy 3 Get 1 Free']\n",
      "[\"The Baker's Dozen Ragi Crackers,  100 g Pouch\", \"The Baker's Dozen Garlic Bread - 100% Wholewheat,  2X160 g Multipack\", 'Wingreens Farms Baked Pita Bread Crisps - Chilli and Garlic, 100 g', 'Wingreens Farms Baked Pita Bread Crisps - Chilli and Garlic, 2X100 gMultipack', \"The Baker's Dozen Lavash - 100% Wholewheat, 100 g\", \"The Baker's Dozen Lavash - 100% Wholewheat, 2X100 gMultipack\", \"The Baker's Dozen Pita Bread 100% Wholewheat 100 g + Lavash - 100% Wholewheat 100 g,  Combo 2 Items\", \"The Baker's Dozen Chilli Garlic Grissini Breadsticks - 100% Wholewheat,  100 g\", \"The Baker's Dozen Dark Chocolate Cookies 200 g + Lavash - 100% Wholewheat 100 g,  Combo 2 Items\", \"The Baker's Dozen Pizza Base Sourdough 140g (Pack of 4) + Chilli Garlic Grissini Breadsticks 100g,  Combo 2 Items\", \"The Baker's Dozen Peanut Butter Cookies 150 g + Garlic Bread - 100% Wholewheat 160 g,  Combo 2 Items\", \"The Baker's Dozen Peri Peri Crackers - 100% Wholewheat,  100 g\", \"The Baker's Dozen Beetroot Crackers - 100% Wholewheat,  100 g\", 'POLKA Garlic and Oregano Soup Sticks,  125 g', 'Dibha Quinoa Puffs - Lunchbox Snack,  30 g', 'Dibha Oats Puffs - Instant Energy and Appetiser,  30 g', 'Dibha Oats Turmeric Puffs - Instant Energy and Appetisier,  35 g', 'Wingreens Farms Crispy Baked Multi-grain Flat Bread - With FlaX Seeds, 100 g', 'Wingreens Farms Crispy Baked Multi-grain Flat Bread - With FlaX Seeds, 2X100 gMultipack', 'POLKA Sesame Soup Sticks,  125 g Jar', 'Dibha Quinoa Puffs - LunchboX Snack,  50 g', 'English Oven Bread - Brown,  400 g Pouch', 'Britannia 100% Whole Wheat Bread,  450 g Pouch', 'Britannia Multigrain Bread,  400 g Pouch', 'English Oven Bun - Burger,  100 g', 'Britannia Brown Bread - With Goodness Of Wheat,  Enriched With Vitamins,  400 g', 'Britannia Britannia Pav,  200 g Pouch', 'English Oven Bread - Multigrain,  400 g Pouch', 'Britannia Bread - Healthy Slice,  450 g', 'Britannia Milk Bread,  400 g Pouch', 'English Oven Bread - Sandwich,  400 g Pouch', 'Britannia Burger Bun,  200 g', 'English Oven Bread - Milk,  400 g Pouch', 'Britannia Atta Kulcha/Bread - Made with 100% Whole Wheat,  250 g', 'Britannia Fruit Bread,  200 g Pouch', 'English Oven Bread - Pav,  300 g Pouch', 'English Oven 100% Atta Bread,  400 g Pouch', 'English Oven 100% Whole Wheat,  400 g', 'Britannia Atta Bread,  400 g', 'Britannia Sweet Bread,  400 g', \"The Baker's Dozen Ragi Loaf, 230 g\", \"The Baker's Dozen Ragi Loaf, 2X230 gMultipack\", 'English Oven Pizza - Base,  200 g Pouch', 'English Oven Garlic Bread,  200 g', \"The Baker's Dozen 100% Whole Wheat Pav Sourdough, 220 g\", 'English Oven Sub Multigrain Bread,  200 g', \"The Baker's Dozen Pizza Base - Sourdough 100% Wholewheat, 2X140 gMultipack\", \"The Baker's Dozen Pizza Base - Sourdough 100% Wholewheat, 140 g(Pack of 4)\", \"The Baker's Dozen Multigrain Loaf 100% Wholewheat, 230 g\", \"The Baker's Dozen Burger Buns - 100% Whole Wheat,  Goodness Of Sesame Seeds,  Soft,  Delicious, 120 g(2 pcs)\", \"The Baker's Dozen Burger Buns - 100% Whole Wheat,  Goodness Of Sesame Seeds,  Soft,  Delicious, 2X120 gMultipack\", 'English Oven Sub Olive Bread,  200 g', 'English Oven Bread - Fruit,  150 g Pouch', \"The Baker's Dozen Sandwich Loaf - 100% Whole Wheat, 230 g\", 'Sprinng Gluten Free Soft and Fluffy Pav,  200 g pouch', 'PRISTINE OvenOrg Organic Multi Millet Bread,  350 g pouch', 'Sprinng Bread - Mediterranean Herbs,  Gluten Free,  200 g Packet', 'Sprinng Immune-O-Booster Lakadong Turmeric + Spices Sandwich Bread,  200 g pouch', 'Sprinng Mega Booster Lakadong Turmeric + Seeds Sandwich Bread,  200 g pouch', 'Britannia Treat Croissant - Cocoa Creme Filling,  100% Veg,  Soft, 4X45 gMultipack', 'Britannia Treat Croissant - Cocoa Creme Filling,  100% Veg,  Soft, 6X45 gMultipack', 'Britannia Treat Croissant - Cocoa Creme Filling,  100% Veg,  Soft, 45 g', 'Britannia Fudge It Brownie - Chocolate,  40 g', 'Britannia Treat Croissant - Vanilla Creme Filling,  100% Veg,  Soft, 6X45 gMultipack', 'Britannia Treat Croissant - Vanilla Creme Filling,  100% Veg,  Soft, 4X45 gMultipack', 'Britannia Treat Croissant - Vanilla Creme Filling,  100% Veg,  Soft, 45 g', 'Britannia Gobbles Choco ChillCake,  115 g, 2X115 gMultipack', 'Britannia Gobbles Choco ChillCake,  115 g, 110 g', 'Britannia Gobbles Choco ChillCake,  115 g, 30 g', 'Britannia Gobbles Choco ChillCake,  115 g, 3X30 gMultipack', 'Britannia Gobbles Fruity Fun Cake,  115g, 2X110 gMultipack', 'Britannia Gobbles Fruity Fun Cake,  115g, 50 g', 'Britannia Gobbles Fruity Fun Cake,  115g, 110 g', 'Britannia Gobbles Cake - Orange Bites, 50 g', 'Britannia Gobbles Cake - Orange Bites, 3X50 gMultipack', 'Britannia Gobbles Cake - Pineapple,  35 g', 'Britannia Fudge It - Chocolate Brownie,  120 g', 'Sunfeast Caker Trinity Cake - Triple Chocolate,  23 g', 'Elite Dreams Cup Cake - Choco,  15 g', 'Britannia Romance Cake - Nuts and Raisin, 140 g', 'Britannia Cakes - Pineapple 55 g + Fruity Fun 55 g + Orange Bites 55 g + Choco Chill 55 g,  Combo 4 Items', 'Britannia Choco Muffills - Centre Filled,  Soft,  Spongy and Fluffy,  Dessert/Snack,  30 g', 'Winkies Centre Filled Cake - Chocolate with Vanilla Cream,  30 g', 'Britannia Gobbles Millky Masti Cake,  50g, 3X50 gMultipack', 'Britannia Gobbles Millky Masti Cake,  50g, 50 g', 'Britannia Gobbles Butter Blast Cake,  50g, 3X50 gMultipack', 'Britannia Gobbles Butter Blast Cake,  50g, 50 g', 'Sunfeast Caker Swiss Roll Cake - Chocolate, 6X23 gMultipack', 'Sunfeast Caker Swiss Roll Cake - Chocolate, 3X23 gMultipack', 'Sunfeast Caker Swiss Roll Cake - Chocolate, 23 g', 'Milk Ma Plum cake,  200 g', 'Winkies Layer Cake - Orange,  15 g', 'Britannia Gobbles Marble Cake - Red Velvet,  Soft and Spongy, 110 g', 'Britannia Gobbles Marble Cake - Red Velvet,  Soft and Spongy, 30 g', 'Britannia Gobbles Tiffin Cake,  16 g Pouch', 'Britannia Muffils - Strawberry,  30 g Pouch', 'Winkies Swiss Roll Cake - Chocolate,  165 g', 'Winkies Rich and Moist Plum Cake - With Raisins,  Premium Quality,  140 g', 'Winkies Signature Plum Cake - With Cashew and Raisins,  330 g', 'Winkies Fruit Cake - Authentic Rich Taste,  Soft,  Sponge,  300 g']\n"
     ]
    }
   ],
   "source": [
    "print(list_product_name_jio[:100])\n",
    "print(list_product_name_bb[:100])"
   ]
  },
  {
   "cell_type": "markdown",
   "id": "3e115ad2-9e3d-44ff-80e4-6b5587e040f6",
   "metadata": {},
   "source": [
    "## Finding deduplicated brands"
   ]
  },
  {
   "cell_type": "code",
   "execution_count": 41,
   "id": "9f32b376-bbb2-4871-8837-f91c098a2080",
   "metadata": {},
   "outputs": [
    {
     "name": "stdout",
     "output_type": "stream",
     "text": [
      "0.375\n",
      "'float' object is not iterable\n",
      "0.71875\n",
      "'float' object is not iterable\n"
     ]
    }
   ],
   "source": [
    "perm_funcs = 256\n",
    "\n",
    "lsh = MinHashLSH(threshold=1.0, num_perm=perm_funcs)\n",
    "\n",
    "for brand in list_brand_bb:\n",
    "    m = MinHash(num_perm=perm_funcs)\n",
    "    try:\n",
    "        brand_char_set = set(brand)\n",
    "        for brand_char in brand_char_set:\n",
    "            m.update(brand_char.encode('utf8'))\n",
    "            #print(brand_char)\n",
    "        #print(brand_char)\n",
    "        lsh.insert(brand, m)\n",
    "    except Exception as e:\n",
    "        print(brand)\n",
    "        print(e)\n",
    "        continue\n",
    "\n",
    "brand_dup_jio = []\n",
    "brand_dup_bb = []\n",
    "\n",
    "for brand in list_brand_jio:\n",
    "    m = MinHash(num_perm=perm_funcs)\n",
    "    try:\n",
    "        brand_char_set = set(brand)\n",
    "        for brand_char in brand_char_set:\n",
    "            m.update(brand_char.encode('utf8'))\n",
    "        results = lsh.query(m)\n",
    "        if len(results)>0:\n",
    "            #print('bb:',brand)\n",
    "            #print('jio:',results)\n",
    "            brand_dup_jio.append(brand)\n",
    "            for result in results:\n",
    "                brand_dup_bb.append(result)\n",
    "    except Exception as e: \n",
    "        print(brand)\n",
    "        print(e)\n",
    "        continue"
   ]
  },
  {
   "cell_type": "code",
   "execution_count": 42,
   "id": "170803b2-2d1a-488b-82c3-c4f7d5dd6998",
   "metadata": {},
   "outputs": [
    {
     "name": "stdout",
     "output_type": "stream",
     "text": [
      "['Tata Coffee', 'Aveeno', 'Beanies', 'Girnar', 'Rage Coffee', 'Teddy Roosevelt', 'Davidoff', 'TGL Co.', 'Bean Good', 'Sleepy Owl']\n",
      "['Tata Coffee', 'Aveon', 'Beanies', 'Girnar', 'Rage Coffee', 'Teddy Roosevelt', 'Davidoff', 'TGL Co.', 'Bean Good', 'Sleepy Owl']\n"
     ]
    }
   ],
   "source": [
    "print(brand_dup_bb[:10])\n",
    "print(brand_dup_jio[:10])"
   ]
  },
  {
   "cell_type": "code",
   "execution_count": 43,
   "id": "d323dd81-59d1-4b3b-98ce-968bde2e3b49",
   "metadata": {},
   "outputs": [
    {
     "name": "stdout",
     "output_type": "stream",
     "text": [
      "407\n",
      "402\n"
     ]
    }
   ],
   "source": [
    "print(len(brand_dup_bb))\n",
    "print(len(brand_dup_jio))"
   ]
  },
  {
   "cell_type": "code",
   "execution_count": 44,
   "id": "261e7e5a-a230-426b-aa62-c128cf26d98f",
   "metadata": {},
   "outputs": [],
   "source": [
    "for brand in brand_dup_jio:\n",
    "    if brand not in brand_dup_bb:\n",
    "        brand_dup_jio.pop(brand_dup_jio.index(brand))\n",
    "        \n",
    "for brand in brand_dup_bb:\n",
    "    if brand not in brand_dup_jio:\n",
    "        brand_dup_bb.pop(brand_dup_bb.index(brand))"
   ]
  },
  {
   "cell_type": "code",
   "execution_count": 45,
   "id": "065a652a-071b-4738-84a1-0378840318af",
   "metadata": {},
   "outputs": [
    {
     "name": "stdout",
     "output_type": "stream",
     "text": [
      "382\n",
      "380\n"
     ]
    }
   ],
   "source": [
    "print(len(brand_dup_bb))\n",
    "print(len(brand_dup_jio))"
   ]
  },
  {
   "cell_type": "code",
   "execution_count": 46,
   "id": "c8bee093-0841-4b9d-9fbe-ca184fcd0760",
   "metadata": {},
   "outputs": [],
   "source": [
    "dict_product_name_bb=dict()\n",
    "for brand in brand_dup_bb:\n",
    "    list_product_name_bb_per_brand=data_bb['Product Name'].loc[data_bb['Brand']==brand].values\n",
    "    dict_product_name_bb[brand]=list(np.unique(list_product_name_bb_per_brand))\n",
    "    \n",
    "dict_product_name_jio=dict()\n",
    "for brand in brand_dup_jio:\n",
    "    list_product_name_jio_per_brand=data_jio['Product Name'].loc[data_jio['Brand']==brand].values\n",
    "    dict_product_name_jio[brand]=list(np.unique(list_product_name_jio_per_brand))"
   ]
  },
  {
   "cell_type": "code",
   "execution_count": 47,
   "id": "d1556e55-1347-4975-8583-78b27ae24ea5",
   "metadata": {},
   "outputs": [],
   "source": [
    "len_total_list_product_name_jio_per_brand=0\n",
    "for key in dict_product_name_jio.keys():\n",
    "    len_total_list_product_name_jio_per_brand+=len(dict_product_name_jio[key])\n",
    "    \n",
    "len_total_list_product_name_bb_per_brand=0\n",
    "for key in dict_product_name_bb.keys():\n",
    "    len_total_list_product_name_bb_per_brand+=len(dict_product_name_bb[key])"
   ]
  },
  {
   "cell_type": "code",
   "execution_count": 48,
   "id": "f681c55f-71b4-4687-b78d-628f6399dff8",
   "metadata": {},
   "outputs": [
    {
     "name": "stdout",
     "output_type": "stream",
     "text": [
      "6039\n",
      "6917\n"
     ]
    }
   ],
   "source": [
    "print(len_total_list_product_name_jio_per_brand)\n",
    "print(len_total_list_product_name_bb_per_brand)"
   ]
  },
  {
   "cell_type": "markdown",
   "id": "0c743be0-88e6-4d63-9b55-5867a4aed671",
   "metadata": {},
   "source": [
    "## Deduplicating w.r.t product name given the brand"
   ]
  },
  {
   "cell_type": "code",
   "execution_count": 76,
   "id": "568a9bc7-ddd7-4302-a07a-3a0d7ae7b9d0",
   "metadata": {},
   "outputs": [
    {
     "name": "stdout",
     "output_type": "stream",
     "text": [
      "Error: 'Pure Nutrition '\n",
      "Error: 'Amar'\n"
     ]
    }
   ],
   "source": [
    "perm_funcs = 256\n",
    "\n",
    "lsh = MinHashLSH(threshold=0.95, num_perm=perm_funcs)\n",
    "\n",
    "dict_product_name_dup_jio = dict()\n",
    "dict_product_name_dup_bb = dict()\n",
    "\n",
    "for key in dict_product_name_bb.keys():\n",
    "    list_product_name_bb = dict_product_name_bb[key]\n",
    "    #print(len(list_product_name_bb))\n",
    "    for product_name in list_product_name_bb:\n",
    "        m = MinHash(num_perm=perm_funcs)\n",
    "        try:\n",
    "            product_name_char_set = set(product_name)\n",
    "            for product_name_char in product_name_char_set:\n",
    "                m.update(product_name_char.encode('utf8'))\n",
    "                #print(brand_char)\n",
    "            #print(product_name)\n",
    "            lsh.insert(product_name, m)\n",
    "        except Exception as e:\n",
    "            #print(product_name)\n",
    "            #print(e)\n",
    "            continue\n",
    "\n",
    "    list_product_name_dup_jio_per_brand = []\n",
    "    list_product_name_dup_bb_per_brand = []\n",
    "\n",
    "    try:\n",
    "        list_product_name_jio = dict_product_name_jio[key]\n",
    "        for product_name in list_product_name_jio:\n",
    "            m = MinHash(num_perm=perm_funcs)\n",
    "            try:\n",
    "                product_name_char_set = set(product_name)\n",
    "                for product_name_char in product_name_char_set:\n",
    "                    m.update(product_name_char.encode('utf8'))\n",
    "                results = lsh.query(m)\n",
    "                if len(results)>0:\n",
    "                    #print(result)   \n",
    "                    #print('bb:',product_name)\n",
    "                    #print('jio:',results)\n",
    "                    list_product_name_dup_jio_per_brand.append(product_name)\n",
    "                    for result in results:\n",
    "                        list_product_name_dup_bb_per_brand.append(result)\n",
    "            except Exception as e: \n",
    "                #print(product_name)\n",
    "                #print(e)\n",
    "                continue\n",
    "        dict_product_name_dup_bb[key]=list_product_name_dup_bb_per_brand\n",
    "        dict_product_name_dup_jio[key]=list_product_name_dup_jio_per_brand\n",
    "        #print(key)\n",
    "    except Exception as e:\n",
    "        print('Error:',e)\n",
    "        continue"
   ]
  },
  {
   "cell_type": "code",
   "execution_count": 77,
   "id": "bf13b991-55a3-4092-8b2e-a0ec7d04dbc4",
   "metadata": {},
   "outputs": [],
   "source": [
    "list_product_name_dup_jio=[]\n",
    "len_total_list_product_name_jio_per_brand_dup=0\n",
    "for key in dict_product_name_dup_jio.keys():\n",
    "    if len(dict_product_name_dup_jio[key])>0:\n",
    "        len_total_list_product_name_jio_per_brand_dup+=len(dict_product_name_dup_jio[key])\n",
    "        if len(dict_product_name_dup_jio[key])>1:\n",
    "            for title in dict_product_name_dup_jio[key]:\n",
    "                list_product_name_dup_jio.append(title)\n",
    "        else:\n",
    "            list_product_name_dup_jio.append(dict_product_name_dup_jio[key][0])\n",
    "\n",
    "list_product_name_dup_bb=[]            \n",
    "len_total_list_product_name_bb_per_brand_dup=0\n",
    "for key in dict_product_name_dup_bb.keys():\n",
    "    if len(dict_product_name_dup_bb[key])>0:\n",
    "        len_total_list_product_name_bb_per_brand_dup+=len(dict_product_name_dup_bb[key])\n",
    "        if len(dict_product_name_dup_bb[key])>1:\n",
    "            for title in dict_product_name_dup_bb[key]:\n",
    "                list_product_name_dup_bb.append(title)\n",
    "        else:\n",
    "            list_product_name_dup_bb.append(dict_product_name_dup_bb[key][0])"
   ]
  },
  {
   "cell_type": "code",
   "execution_count": 78,
   "id": "e2f38a4b-bca9-49f3-8f09-cec54340fdad",
   "metadata": {},
   "outputs": [
    {
     "name": "stdout",
     "output_type": "stream",
     "text": [
      "15\n",
      "16\n"
     ]
    }
   ],
   "source": [
    "print(len_total_list_product_name_jio_per_brand_dup)\n",
    "print(len_total_list_product_name_bb_per_brand_dup)"
   ]
  },
  {
   "cell_type": "code",
   "execution_count": 79,
   "id": "4e24b614-fb6a-4df7-899d-59b31370055f",
   "metadata": {},
   "outputs": [
    {
     "name": "stdout",
     "output_type": "stream",
     "text": [
      "['Coolberg Non Alcoholic Strawberry Beer 330 ml', 'Open Secret Lemon Chilli Almond Butter Nutty Chips 30 g', 'Himalaya Extra Moisturizing Baby Wash 400 ml', \"The Baker's Dozen 100% Wholewheat Lavash 100 g\", 'Surf Excel Easy Wash Liquid Detergent 500 ml', 'Comfort After Wash Anti-Bacterial Action Fabric Conditioner 860 ml', 'Comfort After Wash Lily Fresh Fabric Conditioner 860 ml', 'Comfort After Wash Morning Fresh Fabric Conditioner 860 ml', 'Mamaearth Moisturizing Bathing Bar for Babies 75 g (Pack of 2)', 'Delight Foods Butter Murukku 200g Fried in Cold Pressed Sunflower Oil']\n",
      "['Coolberg Non Alcoholic Beer - Strawberry,330 mlBottle', 'Open Secret Nutty Chips - Choco Almond Butter, 30 g', 'Open Secret Nutty Chips - Lemon Chili Almond Butter, 30 g', 'Himalaya Extra Moisturizing Baby Wash, 400 ml', \"The Baker's Dozen Lavash - 100% Wholewheat, 100 g\", 'Surf Excel Easy Wash Detergent Liquid,500 ml', 'Comfort After Wash Anti Bacterial Fabric Conditioner,860 ml', 'Comfort After Wash Lily Fresh Fabric Conditioner,860 ml', 'Comfort After Wash Morning Fresh Fabric Conditioner,860 ml', 'Mamaearth Moisturizing Bathing Bar For Babies,75 g(Pack of 2)']\n"
     ]
    }
   ],
   "source": [
    "print(list_product_name_dup_jio[:10])\n",
    "print(list_product_name_dup_bb[:10])"
   ]
  },
  {
   "cell_type": "code",
   "execution_count": 80,
   "id": "41777e5e-6297-42b0-ab5c-59355bb5c68a",
   "metadata": {},
   "outputs": [],
   "source": [
    "pd.DataFrame(np.reshape(list_product_name_dup_jio,[len(list_product_name_dup_jio),1]),columns=['duplicated_titles']).to_csv('duplicated_titles_jio_95.csv')\n",
    "pd.DataFrame(np.reshape(list_product_name_dup_bb,[len(list_product_name_dup_bb),1]),columns=['duplicated_titles']).to_csv('duplicated_titles_bb_95.csv')"
   ]
  },
  {
   "cell_type": "code",
   "execution_count": null,
   "id": "e63ea131-faa5-436e-b727-db606cd25bce",
   "metadata": {},
   "outputs": [],
   "source": []
  },
  {
   "cell_type": "code",
   "execution_count": null,
   "id": "44dbb3a1-9cf6-41fb-a948-78383a8d17a6",
   "metadata": {},
   "outputs": [],
   "source": []
  },
  {
   "cell_type": "code",
   "execution_count": null,
   "id": "f89e162a-af3e-4fa3-941a-e41696eadaa4",
   "metadata": {},
   "outputs": [],
   "source": []
  },
  {
   "cell_type": "code",
   "execution_count": null,
   "id": "b7abf173-b51c-473e-b80d-268b5a14d986",
   "metadata": {},
   "outputs": [],
   "source": []
  },
  {
   "cell_type": "markdown",
   "id": "108446f2-4e17-452e-8155-0dd00532b71d",
   "metadata": {
    "jp-MarkdownHeadingCollapsed": true,
    "tags": []
   },
   "source": [
    "### Rough"
   ]
  },
  {
   "cell_type": "code",
   "execution_count": 189,
   "id": "538cff00-797e-4958-a431-d32018054990",
   "metadata": {},
   "outputs": [
    {
     "name": "stdout",
     "output_type": "stream",
     "text": [
      "bb: BRU Instant Coffee 50 g\n",
      "jio: ['BRU Instant Coffee,50 g']\n",
      "bb: Beanies Creamy Caramel Flavoured Instant Coffee 50 g\n",
      "jio: ['Beanies Flavour Instant Coffee - Creamy Caramel, 50 g Bottle']\n",
      "bb: Beanies Double Chocolate Flavour Instant Coffee 50 g\n",
      "jio: ['Beanies Flavour Instant Coffee - Double Chocolate, 50 g Bottle']\n",
      "bb: Beanies Very Vanilla Flavour Instant Coffee 50 g\n",
      "jio: ['Beanies Flavour Instant Coffee - Very Vanilla, 50 g Bottle']\n",
      "bb: Colombian Brew Coffee Premix Cappuccino, Hazelnut, Vanilla Caramel, Double Choco Mocha, Cambridge Tea Party Masala Chai Premix, Christopher Cocoa Hot Cocoa Mix 10 3 in 1 Instant Premix Sachets Box x 6\n",
      "jio: ['Cream Bell Cappuccino Truffle Cone Ice Cream - Rich and Creamy,  Delightful Flavour,  130 ml', 'Delight Nuts Tit Bit Mouth Freshener - Helps Boost Immunity and Digestion, Rich In Vitamin C, 130 g']\n",
      "bb: Colombian Brew Blueberry Chocolate Mocha Instant Coffee Powder, No Sugar Vegan, 100g\n",
      "jio: ['Johnsons Baby Cottontouch Newborn Massage Oil, 100 ml']\n",
      "bb: Colombian Brew High Caffeine Espresso Instant Coffee Powder, Strong, 50g\n",
      "jio: ['Colombian Brew Coffee Instant Coffee Powder - High Caffeine Espresso, Strong, 50 g (25 Sachets)']\n",
      "bb: Colombian Brew Vanilla Instant Coffee Powder, No Sugar Vegan, 50g\n",
      "jio: ['Nutriorg Certified Organic Mustard Oil, 500 ml Plastic Bottle', 'Colorado Vinegar - Natural, 500 ml Pet Bottle']\n",
      "bb: Colombian Brew Ice Mint Instant Coffee Powder, No Sugar Vegan, 50g\n",
      "jio: ['Nutriorg Certified Organic Mustard Oil, 500 ml Plastic Bottle', 'Colorado Vinegar - Natural, 500 ml Pet Bottle']\n",
      "bb: Colombian Brew Hazelnut Instant Coffee Powder, No Sugar Vegan, 50gm\n",
      "jio: ['Nutriorg Certified Organic Mustard Oil, 500 ml Plastic Bottle', 'Colorado Vinegar - Natural, 500 ml Pet Bottle']\n",
      "bb: Nutrovally Unroasted Green Coffee Beans Powder For Weight Loss Instant Coffee - 100 (Pack of 2)\n",
      "jio: ['Nutriwish Pea Protein Powder Super Food 200 g + Unflavoured Whey Protein 200 g, Combo 2 Items']\n",
      "bb: Davidoff Fine Aroma Elegant and Fragrant Instant Coffee 100 g\n",
      "jio: ['Davidoff Fine Aroma Instant Coffee, 100 g Bottle']\n",
      "bb: Monster Energy Drink 350 ml\n",
      "jio: ['Monster Energy Drink, 350 ml']\n",
      "bb: Coolberg Non Alcoholic Strawberry Beer 330 ml\n",
      "jio: ['Coolberg Non Alcoholic Beer - Strawberry,330 mlBottle']\n",
      "bb: Winola Cocoa Powder - Natural, Unsweetened & Vegan (1 kg)\n",
      "jio: ['Princeware Dust Pan - Super (No- 2), Assorted Color, 1 pc']\n",
      "bb: Paper Boat Chilli Guava Fruit Juice 200 ml\n",
      "jio: ['Paper Boat Chilli Guava Fruit Juice,200 ml']\n",
      "bb: Raw Pressery Cold Pressed Mixed Fruit Juice 1 L\n",
      "jio: ['Raw Pressery Cold Extracted Juice - Mixed Fruit,1 L']\n",
      "bb: Weikfield Drinking Chocolate Powder 100 g\n",
      "jio: ['Weikfield Drinking Chocolate Powder,100 gBottle']\n",
      "bb: Women's Horlicks Chocolate 400 g\n",
      "jio: [\"Horlicks Women's Plus, Chocolate, 400 g Carton\", \"Horlicks Women's Plus, Caramel,400 gCarton\"]\n",
      "bb: Horlicks Protein Plus Chocolate 200 g\n",
      "jio: ['Horlicks Protein Plus, Chocolate,200 g']\n",
      "bb: Christopher Cocoa, Drinking Chocolate Cocoa Powder, Dark No Sugar, 100g Buy 3 Get 1 Free\n",
      "jio: ['Cadbury Dairy Milk Silk Fruit and Nut Chocolate Bar,2x137 gMultipack']\n",
      "bb: Aquafina Packaged Drinking Water 1 L\n",
      "jio: ['Aquafina Packaged Drinking Water,2 L']\n",
      "bb: Aquafina Packaged Drinking Water 500 ml\n",
      "jio: ['Aquafina Packaged Drinking Water,500 ml']\n",
      "bb: Girnar Royal Cup Tea 250 g\n",
      "jio: ['Girnar Royal Cup Tea,250 g']\n",
      "bb: Red Label Natural Care Tea 1 kg\n",
      "jio: ['Red Label Tea - Natural Care,1 kg']\n",
      "bb: Wagh Bakri Green Tea 100 g\n",
      "jio: ['Wagh Bakri Green Tea, 100 g']\n",
      "bb: Eco Valley Organic Tulsi Green Tea Bags 30 pcs\n",
      "jio: ['Eco Valley  Organic Classic Green Tea, 30 pcs', 'Eco Valley  Organic Green Tea - Sunny Lemony, 30 pcs']\n",
      "bb: TGL Co. Kadak Masala Chai 100 g\n",
      "jio: ['TGL Co. Kadak Masala Chai Tea CTC, 100 g']\n",
      "bb: Granules n Beans Masala Chai Instant tea Premix - (10 Sachet x 14g = 140g) (Pack of 2)\n",
      "jio: ['Colombian Brew Coffee Instant Coffee 3 In 1 Premix - Double Chocolate Mocha, Cafe Latte, 200 g (10 Sachets x 20 g each)']\n",
      "bb: Granules n Beans Assorted Chai (Cardamom, Ginger, Lemongrass Ginger, Masala) Instant Tea Premix - (10 Sachet x 14g = 140g)\n",
      "jio: ['Tetley Green Tea - Ginger Mint and Lemon, Rich In Antioxidants,14 g(10 Bags x 14 g each)', 'Tetley Green Tea - Ginger Mint and Lemon, Rich In Antioxidants,140 g(100 Bags x 14 g each)']\n",
      "bb: All In One Lemon Tea Premix With Sulphur Less Sugar, 25 Pouches\n",
      "jio: ['Anveshan Organic Roasted Flax Seeds Roasted With Turmeric and Lemon Juice,650 g']\n",
      "bb: VAHDAM Tea Bags Assortment - Sampler Trial Pack | Tea Assortment of 15 Premium Tea Bags | Immunity Tea Range | Boost Immune System\n",
      "jio: ['Mother Sparsh Tummy Roll-On Baby Hing and Saunf Oil - 100% Ayurvedic, Helps Relief Colic, Digestion, 40 ml']\n",
      "bb: TGL Co. Bombay Cutting Chai Instant Tea Premix with Cardamom and Ginger, 14 Sachets (196 Grams)\n",
      "jio: ['TGL Co. Bombay Cutting Chai Instant Tea Premix Tea, 196 g (14 Sachets x 14 g each)']\n",
      "bb: MindBrew Strong Golden Premium Assam Tea Leaf, 500 grams Black Tea Pouch\n",
      "jio: ['Tablespoon Tandoori Tikka Masala - Blend Of 22 Ingredients, Rich Aroma, Freshness Locked, 75 g Pouch', 'Christopher Cocoa Professional Baking Soda - All Purpose,  Add To Cakes,  Bread and Brownies,  250 g', 'Tablespoon Panch Phoron Masala - Blend Of 5 Ingredients, Rich Aroma, Freshness Locked, 75 g Pouch']\n",
      "bb: Tea Treasure 28 Days Detox Tea -18 Pyramid Tea Bags | Blended with Garcinia Cambogia, Moringa, Cinnamon, Licorice, Oolong and Many More | Reduce Belly Fat | Skin Glow | Immunity Booster Detox Tea Bags | Herbal Tea | 1 Teabox\n",
      "jio: ['Sri Sri Tattva Premium Cow Ghee, 1 Litre - For Better Digestion and Immunity,500 mlCeka Pack']\n",
      "bb: Dancing Leaf Menstrual Soothing Tea, 100g\n",
      "jio: ['Slice Thickest Mango Drink,12 L']\n",
      "bb: Dabri Slimming Tea 100 grams pouch\n",
      "jio: ['Tablespoon Masala - Delhi Chole, 100 g Jar']\n",
      "bb: The Tea Trove- Organic Valerian Root Sleep Tea for insomnia and Relaxation\n",
      "jio: ['klemax Disinfectant Toilet Cleaner - Sparkling Clean, Removes Tough Stains, 5 L']\n",
      "bb: Creative Colouring book 10 Books Pack Paperback 160 Pages\n",
      "jio: ['Jacker  Potato Crisps - Barbecue Flavour,160 gJar']\n",
      "bb: Police Shaped Baby Board Book Pegasus Board book 10 Pages\n",
      "jio: ['Cadbury Chocobakes Choc Filled Cookies/Biscuits - Family Pack, 2X150 gMultipack']\n",
      "bb: Books For Learning English Grammar, Vocabulary, Computer, Hindi And EVS For Children Paperback 464 Pages\n",
      "jio: [\"Envome 4'' Round Areca Leaf disposable Bowl - Eco-Friendly, Lightweight, Leakproof, Chemical Free, 6 pcs\"]\n",
      "bb: First Padded Board Books Gift  Set of 5 Books - Fruit, Vegetables, My Body, First Word Book, Nursery Rhymes Dreamland Publications 120 Pages\n",
      "jio: ['Huggies Wonder Diaper Pants - Medium, Bubble-bed, Pure Softness, Monthly Pack, 152 pcs Polybag']\n",
      "bb: Wings of Fire: An Autobiography of Abdul Kalam\n",
      "jio: ['Scotch brite Sponge Wipes for Kitchen cleaning, Re-usable Absorbent and Surface Cleaner, 5 pcs']\n",
      "bb: STD 7 Perfect History And Civics Notes And Workbook, English Medium, Maharashtra State Board Books\n",
      "jio: ['Toblerone Swiss Dark Chocolate With Honey and Almond Nougat - Tiny, 272 g Bag']\n",
      "bb: STD 6 Perfect Notes History - Civics And Geography Book, English Medium, Maharashtra State Board\n",
      "jio: ['True Elements Dark Chocolate Granola - High Protein and Antioxidant, Ready To Eat Breakfast, 700 g Pouch', 'BATTER CHATTER Jeera Cookies - Crunchy Snack,  Healthy,  Improves Digestion,  200 g', 'OATEY Chocolate Oat Drink - Stevia Based, Non-dairy, Vegan, Nut Free, No-added Sugar, 200 ml']\n",
      "bb: STD 10 Precise Notes Science 2 Book, English And Semi English Medium, SSC Maharashtra State Board\n",
      "jio: ['The Belgian No Sugar Added Dark Chocolate - Almond, 100 g Carton', 'DON MONTE Pumpkin Seeds - Minerals and Vitamins Rich, For Cooking, Baking Use, 200 g']\n",
      "bb: STD 10 Perfect Notes Geography Book, English Medium, SSC Maharashtra State Board Paperback 160 Pages\n",
      "jio: ['Sparkmate By Crystal Easy Cloth Brush - Soft On Clothes, Removes Tough Stains and Dirt, Blue, 1 pc', 'Sri Sri Tattva Bengal Gram Chana Dal - Split, Rich In Protein, Highly Nutritious, For Easy Digestion, 1 kg']\n",
      "bb: STD 10 Perfect Notes Maths 1 Book, English And Semi English Medium, SSC Maharashtra State Board\n",
      "jio: ['The Belgian No Sugar Added Dark Chocolate - Almond, 100 g Carton', 'DON MONTE Pumpkin Seeds - Minerals and Vitamins Rich, For Cooking, Baking Use, 200 g']\n",
      "bb: STD 10 Precise Notes Science 1 Book, English And Semi English Medium, SSC Maharashtra State Board\n",
      "jio: ['The Belgian No Sugar Added Dark Chocolate - Almond, 100 g Carton', 'DON MONTE Pumpkin Seeds - Minerals and Vitamins Rich, For Cooking, Baking Use, 200 g']\n",
      "bb: STD 10 Science And Technology- 1 - Vigyan Important Question Bank - IQB Book, Marathi Medium\n",
      "jio: ['MAVANA AGARBATHIES Premium Flora - High-Quality, Dense Fragrance, For Prayers, Positive Ambience, 100 g Family Pack', 'MAVANA AGARBATHIES Black Sign Incense Sticks - High-Quality, Dense Fragrance, For Prayers, Positive Ambience, 100 g']\n",
      "bb: STD 10 Question Bank Solutions- Math 1, 2 And Science 1, 2 Question Bank SSC Maharashtra State Board\n",
      "jio: ['Anthon Berg Dessert Chokolader Chocolates - Signature, Sweet, 250 g']\n",
      "bb: STD 10 Perfect Notes Maths 2 Book, English And Semi English Medium, SSC Maharashtra State Board\n",
      "jio: ['The Belgian No Sugar Added Dark Chocolate - Almond, 100 g Carton', 'DON MONTE Pumpkin Seeds - Minerals and Vitamins Rich, For Cooking, Baking Use, 200 g']\n",
      "bb: STD 10 Perfect Notes Sanskrit Aamod - Entire 100 Marks Book, All Mediums, SSC Maharashtra Board\n",
      "jio: ['DON MONTE Pumpkin Seeds - Minerals and Vitamins Rich, For Cooking, Baking Use, 200 g']\n",
      "bb: STD 10 Science And Technology - Vigyan 1 And 2 Important Question Bank - IQB Book, Marathi Medium\n",
      "jio: ['MAVANA AGARBATHIES Premium Flora - High-Quality, Dense Fragrance, For Prayers, Positive Ambience, 100 g Family Pack', 'MAVANA AGARBATHIES Black Sign Incense Sticks - High-Quality, Dense Fragrance, For Prayers, Positive Ambience, 100 g']\n",
      "bb: STD 10 Perfect Notes Science 2 Book, English And Semi English Medium, SSC Maharashtra State Board\n",
      "jio: ['The Belgian No Sugar Added Dark Chocolate - Almond, 100 g Carton', 'DON MONTE Pumpkin Seeds - Minerals and Vitamins Rich, For Cooking, Baking Use, 200 g']\n",
      "bb: STD 10 Perfect Notes Marathi Aksharbharati Book, English Medium, SSC Maharashtra State Board\n",
      "jio: ['The Belgian No Sugar Added Dark Chocolate - Almond, 100 g Carton']\n",
      "bb: STD 10 Perfect Notes Science 1 Book, English And Semi English Medium, SSC Maharashtra State Board\n",
      "jio: ['The Belgian No Sugar Added Dark Chocolate - Almond, 100 g Carton', 'DON MONTE Pumpkin Seeds - Minerals and Vitamins Rich, For Cooking, Baking Use, 200 g']\n",
      "bb: STD 11 Arts Books- Economics, English Maths 1, 2 Smart Notes FYJC Arts Guide Maharashtra State Board\n",
      "jio: ['The Belgian No Sugar Added Dark Chocolate - Almond, 100 g Carton']\n",
      "bb: STD 10 Precise Notes History, Political Science And Geography Book, English Medium Paperback\n",
      "jio: ['True Elements Starter Gift Hamper Pack - Best Savoury and Sweet Delights, Assorted Flavours, 210 g']\n",
      "bb: STD 10 Science And Technology 1 And 2 Important Question Bank - IQB Book, English Medium Paperback\n",
      "jio: ['MAVANA AGARBATHIES Premium Flora - High-Quality, Dense Fragrance, For Prayers, Positive Ambience, 100 g Family Pack', 'MAVANA AGARBATHIES Black Sign Incense Sticks - High-Quality, Dense Fragrance, For Prayers, Positive Ambience, 100 g']\n",
      "bb: STD 12 Arts Books - Economics, English, Maths 1 And 2, SYJC Arts Guide, HSC Maharashtra State Board\n",
      "jio: ['Phalada Pure and Sure Organic Coffee Decoction - Bold, Instant Mix, Authentic Flavours and Taste, 160 ml Pack']\n",
      "bb: STD 12 English Yuvakbharati Book, Commerce, Science And Arts, HSC Maharashtra Board Paperback\n",
      "jio: ['Phalada Pure and Sure Organic Coffee Decoction - Bold, Instant Mix, Authentic Flavours and Taste, 160 ml Pack']\n",
      "bb: Textbook Of Practice Of Medicine With Homoeopathic Therapeutics, Kamal Kansal, Hardcover 785 Pages\n",
      "jio: ['Wingreens Farms Original Recipe - Tomato Ketchup, 2 x 950 g Multipack']\n",
      "bb: Success Mantra For Successful Homoeopathic Prescribing - Tips And Tricks, Paperback 612 Pages\n",
      "jio: ['Aashirvaad Sambar Masala - Handpicked Spices and Authentic Taste, 100 g']\n",
      "bb: Puff Master Freshly Baked Rusk 300 g\n",
      "jio: ['Sakurafresh Caper Berries Pickle, 300 g']\n",
      "bb: The Baker's Dozen 100% Wholewheat Lavash 100 g\n",
      "jio: [\"The Baker's Dozen Lavash - 100% Wholewheat, 100 g\"]\n",
      "bb: American Garden Plain Bread Crumbs 425 g\n",
      "jio: ['American Garden  Bread Crumbs - Plain, 425 g']\n",
      "bb: The Laughing Cow Plain Cheese Spread 180 g (Container)\n",
      "jio: ['The Laughing Cow Cheese Spread - Plain, 180 g', 'The Laughing Cow Cheese Spread - Plain,180 g']\n",
      "bb: The Laughing Cow Cheese Cubes 120 g (Carton)\n",
      "jio: ['The Laughing Cow Cheese Cubes, 200 g(10 Cubes)', 'The Laughing Cow Cheese Cubes,200 g(10 Cubes)']\n",
      "bb: Delicious Fat Spread 100 g (Carton)\n",
      "jio: ['Delicious Fat Spread, 100 gCarton']\n",
      "bb: Epigamia Natural Greek Yogurt 90 g (Cup)\n",
      "jio: ['Epigamia  Greek Yogurt - Natural,  90 g Cup']\n",
      "bb: Epigamia Wild Raspberry Greek Yogurt 90 g (Cup)\n",
      "jio: ['Epigamia  Greek Yogurt - Wild,  Raspberry, 90 gCup']\n",
      "bb: Amul Lite Milk Fat Spread 100 g (Carton)\n",
      "jio: ['Amul Lite Milk Fat Bread Spread, 100 gCarton']\n",
      "bb: Milky Mist Elaichi Shrikhand 100 g (Cup)\n",
      "jio: ['Milky Mist Shrikhand - Elaichi, 100 gCup']\n",
      "bb: Sunfeast Dark Fantasy Belgian Chocolate Shake 300 ml (Pet Bottle)\n",
      "jio: ['GoodDiet Multigrain Puffs - Butter Makhana, 30 g']\n",
      "bb: Bhumi Organic Vedic Bilona Two Way Hand Churned A2 Gir Cow Cultured Ghee - 1 Ltr, Pack of 2\n",
      "jio: ['Chicco Baby Moments - Mild Body Wash, Refresh, Lotus and Meadowsweet, For Moisturised Skin, With A Refreshing Touch,100 ml']\n",
      "bb: Soyfit Tofu Supreme Chilli 200g\n",
      "jio: ['Soyfit Tofu Supreme - Chilli,  200 g', 'Soyfit Tofu Supreme - Chilli, 200 g']\n",
      "bb: Trueganic Basil (Approx 20 g - 50 g)\n",
      "jio: ['Twinings Green Tea - Green Apple, 50 g (25 Bags x 2 g each)']\n",
      "bb: Ambi Pur Car Lavender Spa Car Freshener Refill 7.5 ml\n",
      "jio: ['Ambipur Car Air Freshener Refill - Lavender Spa, 7.5 ml Pouch']\n",
      "bb: Godrej Aer Twist Fresh Lush Green Car Freshener Gel 45 g\n",
      "jio: ['Godrej Aer Twist Gel - Car Air Freshener, Fresh Lush Green, 45 g']\n",
      "bb: Godrej Aer Twist Petal Crush Pink Car Freshener Gel 45 g\n",
      "jio: ['Godrej Aer Twist Gel - Car Air Freshener, Petal Crush Pink, 45 g']\n",
      "bb: CRODOR Cotton Laundry Bag | Dirty Clothes Organizer | Clothes Storage Travel Essentials| Laundry Liner College Essentials Laundry Hamper or Basket | Portable | Machine Washable (Pack of 1, Off White)\n",
      "jio: ['Brodees Disposable Bowl - Round, White, Ecofriendly, Lightweight, Easy To Carry, 180 ml (Pack of 25)']\n",
      "bb: Easyhome Furnish Stainless Steel Towel Ring Napkin Stand Towel Holder Napkin Ring Cloth Hanger Bathroom Accessories (Chrome Finish, Anti Rust) Towel ring-03\n",
      "jio: ['Nourish Organics Immunity - Amla Cashew Bar, Rich In Vitamin C, Sweet Taste, Healthy Snack, 30 g (Pack of 6)']\n",
      "bb: Plastic Multipurpose Water Storage Bucket for Bathroom and Home -12ltr(Blue)\n",
      "jio: ['Huggies Wonder Diaper Pants - Medium, Bubble-bed, Pure Softness, Monthly Pack, 152 pcs Polybag']\n",
      "bb: Foora lock and key door lock for home link round 65mm padlock with 5 keys each for shop, gate ,shutter Pack of 2\n",
      "jio: ['Orika Smokey Garlic Marinade, 75 g Standy pouch', 'Omypop Popcorn Hokkaido Milkycoco Flavour - Rich In Fibre, Gluten Free, 85 g']\n",
      "bb: NBS Gloves Silicone Dish Washing Gloves for Kitchen Dishwashing and Pet Grooming(Multicolour, Pack of 1)\n",
      "jio: ['Mee Mee Premium Breathable New Born  Diapers, 12 pcs (Pack of 2)']\n",
      "bb: TYGIEL Highball Glasses for Drinking Cocktail, Juice, Milkshake, Coke, Soda, Beer, Whiskey, Dishwasher Safe, Set of 6   (300ml each), Transparent\n",
      "jio: ['Brodees Disposable Bowl - Round, White, Ecofriendly, Lightweight, Easy To Carry, 360 ml (Pack of 25)']\n",
      "bb: TuelipPrintedDesignof\"N\"AlphabetforCeramicCoffeeMug\n",
      "jio: ['Dabur One Touch Air Purifier Freshener - Natural Spring Refill, 12 ml']\n",
      "bb: Bataniya Melamine UnbreakableSquare Serving Bowl Set of 6 Pieces, Pink Floral\n",
      "jio: [\"Vinayaka's Black Fantacy Premium Incense Sticks, 60 g\"]\n",
      "bb: BP Bharat Bone China Semi Deluxe Gold Coffee Mug, 6-Piece, 125 ml, Service for 6, White and Gold\n",
      "jio: ['Lindberg Assorted Gift Box - Pure Belgian Chocolate Truffles,10x270 gm 25 pcsMultipack']\n",
      "bb: The Honest Home Company Reusable Baking and Cooking Parchment Paper, 21 M, Silver\n",
      "jio: ['Sparkmate By Crystal Stainless Steel Scourer - Tough On Utensils, Jumbo Triple Twenty Pack, 1 pc']\n",
      "bb: The Honest Home Company Baking Paper White Precut Sheet for Cooking and Baking, Reusable Can be Used as Parchment Paper for Oven - 50 Sheets\n",
      "jio: ['Twix Crunchy Cookie Chocolate Bar - With Smooth Caramel, Chewy, 50 g']\n",
      "bb: Freshee Extra Strong Aluminium Silver Foil Container with Lid, 600ml, pack of 2 x 10pcs each\n",
      "jio: ['Snickers Premium Chocolates Gift Pack - Assorted, For Your Loved Ones, Rakhi and Special Occasions, 150 g']\n",
      "bb: Kuber Industries Large 15 Biodegradable Garbage Bags, Dustbin Bags, Trash Bags For Kitchen, Office, Warehouse, Pantry or Washroom, 24x30 Inches (Black)\n",
      "jio: ['1st Bites Baby Cereals - Stage 3, 10 To 24 Months, 100% Organic Wheat, Spinach and Carrot Based Infant Food,300 gPack of 3']\n",
      "bb: Kuber Industries Large 120 Biodegradable Garbage Bags, Dustbin Bags, Trash Bags For Kitchen, Office, Warehouse, Pantry or Washroom, 24x30 Inches (Black)\n",
      "jio: ['1st Bites Baby Cereals - Stage 3, 10 To 24 Months, 100% Organic Wheat, Spinach and Carrot Based Infant Food,300 gPack of 3']\n",
      "bb: Kuber Industries Large 105 Biodegradable Garbage Bags, Dustbin Bags, Trash Bags For Kitchen, Office, Warehouse, Pantry or Washroom, 24x30 Inches (Black)\n",
      "jio: ['1st Bites Baby Cereals - Stage 3, 10 To 24 Months, 100% Organic Wheat, Spinach and Carrot Based Infant Food,300 gPack of 3']\n",
      "bb: Kuber Industries Leaf Printed 7 Feet Door Curtain For Living RoomWith 8 Eyelet,Pack of 2 (Blue)\n",
      "jio: ['Klassic Disposable Biodegradable Bagasse Bowl - Square, Eco-Friendly, Light Weight, 220 ml (Pack of 25)']\n",
      "bb: Homefab India 144 TC Microfiber Single Bedsheet with 1 Pillow Cover - Aqua, Floral\n",
      "jio: ['Batchelors Cup A Soup - Tomato and Vegetable, 104 g Carton']\n",
      "bb: Homefab India 140 TC Microfiber Single Bedsheet with 1 Pillow Cover -Heart, Light Blue\n",
      "jio: ['Lotus Biscuit - Caramelised, The Original, Biscoff, 124 g']\n",
      "bb: Homefab India 120 TC Microfiber Single Bedsheet with 1 Pillow Cover - Polka, Royal Blue\n",
      "jio: ['Milky Mist Table Butter - Salted,  Pasteurised,  Rich,  Creamy,  100 g']\n",
      "bb: Homefab India 144 TC Microfiber Single Bedsheet with 1 Pillow Cover - Abstract, Blue\n",
      "jio: ['Batchelors Cup A Soup - Tomato and Vegetable, 104 g Carton']\n",
      "bb: KINOKI Egg Boiler Electric Automatic Off 7 Egg Poacher for Steaming, Cooking, Boiling and Frying, Blue,\n",
      "jio: ['Pediasure Complete Balanced Nutrition Powder - Arginine and Vitamin K2, Supports Immunity, For Kids, Chocolate, 2 kg']\n",
      "bb: Cihlex For Girl And Men Wireless Bluetooth Earphone Neckband 205Bt Bluetooth Headset (Black, In The Ear)\n",
      "jio: ['Teamonk Nilgiri Green Tea - Taido Ginger, May Help With Weight Management, 2 g (50 Bags x 2 g Each)']\n",
      "bb: Cihlex C-51 Super Bass Bluetooth Earphones Neckband Headphones Long Lifes Battery Bluetooth Headset (Green, In The Ear)\n",
      "jio: ['Teamonk Nilgiris Green Tea - Zoho Lemongrass, Helps Feel Relaxed and Fresh, 2 g (25 Bags x 2 g Each)', 'Teamonk Nilgiris Green Tea - Yoshin Lemon, Helps To Feel Relaxed, 50 g (25 Bags x 2 g Each)', 'Teamonk Nilgiris Green Tea - Anicca Chamomile, Helps To Relax and Calm, 2 g (25 Bags x 2 g Each)', 'Teamonk Nilgiris Green Tea - Anicca Chamomile, Helps To Feel Relaxed and Calm, 2 g (50 Bags x 2 g Each)']\n",
      "bb: Cihlex Live 1000 15Hrs Play With Deep Bass, Ergonomic Neckband With Mic Bluetooth Headset (Black, In The Ear)\n",
      "jio: ['Brodees Disposable Bowl - Round, White, Ecofriendly, Lightweight, Easy To Carry, 180 ml (Pack of 25)']\n",
      "bb: Cihlex Bt 25 Good Bass Bluetooth Neckband With Long Life Battery 25Hr Bluetooth Headset (Black, In The Ear)\n",
      "jio: ['Teamonk Nilgiris Green Tea - Zoho Lemongrass, Helps Feel Relaxed and Fresh, 2 g (25 Bags x 2 g Each)', 'Teamonk Nilgiris Green Tea - Yoshin Lemon, Helps To Feel Relaxed, 50 g (25 Bags x 2 g Each)', 'Teamonk Nilgiris Green Tea - Anicca Chamomile, Helps To Relax and Calm, 2 g (25 Bags x 2 g Each)', 'Teamonk Nilgiris Green Tea - Anicca Chamomile, Helps To Feel Relaxed and Calm, 2 g (50 Bags x 2 g Each)']\n",
      "bb: Simxen Egg Boiler Electric Automatic Off 7 Egg Poacher for Steaming, Cooking Also Boiling and Frying, Multi Colour\n",
      "jio: ['Fabbox Roasted Almonds - Peri Peri, Premium California Badam, Healthy Snack, Superfood,70 gPouch', 'Fabbox Roasted Almonds - Peri Peri, Premium California Badam, Healthy Snack, Superfood,2x70 gMultipack', 'Everyday Four Afghan Black Raisins - Seedless, Helps In Anaemia, Prevents Cancer, 200 g']\n",
      "bb: Cihlex Ch-271 24Hr Long Life Battery Classical Sound With Mic Bluetooth Headphone Bluetooth Headset (Black, In The Ear)\n",
      "jio: ['Huggies Wonder Diaper Pants - Extra Large, Bubble-bed, Pure Softness, Monthly Pack, 112 pcs Polybag']\n",
      "bb: Cihlex C-45 Earbuds Earpods With Power Bank Charging Case And Bluetooth Headphone Bluetooth Headset (Black, True Wireless)\n",
      "jio: ['Blue Tokai Cold Brew Coffee Bags Bold Blend Made With Arabica, 225 g (5 pcs x 45 g Each)']\n",
      "bb: Cihlex 25 Hours Long Life Battery Backup Bluetooth Neckband Headphones Classical Sound Bluetooth Headset (Grey, In The Ear)\n",
      "jio: ['Teamonk Nilgiris Green Tea - Zoho Lemongrass, Helps Feel Relaxed and Fresh, 2 g (25 Bags x 2 g Each)', 'Teamonk Nilgiris Green Tea - Yoshin Lemon, Helps To Feel Relaxed, 50 g (25 Bags x 2 g Each)', 'Teamonk Nilgiris Green Tea - Anicca Chamomile, Helps To Relax and Calm, 2 g (25 Bags x 2 g Each)', 'Teamonk Nilgiris Green Tea - Anicca Chamomile, Helps To Feel Relaxed and Calm, 2 g (50 Bags x 2 g Each)']\n",
      "bb: Cihlex C-50 Super Bass Bluetooth Earphones Neckband Headphones Long Lifes Battery Bluetooth Headset (Green, In The Ear)\n",
      "jio: ['Teamonk Nilgiris Green Tea - Zoho Lemongrass, Helps Feel Relaxed and Fresh, 2 g (25 Bags x 2 g Each)', 'Teamonk Nilgiris Green Tea - Yoshin Lemon, Helps To Feel Relaxed, 50 g (25 Bags x 2 g Each)', 'Teamonk Nilgiris Green Tea - Anicca Chamomile, Helps To Relax and Calm, 2 g (25 Bags x 2 g Each)', 'Teamonk Nilgiris Green Tea - Anicca Chamomile, Helps To Feel Relaxed and Calm, 2 g (50 Bags x 2 g Each)']\n",
      "bb: Cihlex Ch-25 Earbuds Earpods And Power Bank Charging Case And Bluetooth Neckband Headphone Bluetooth Headset (Black, True Wireless)\n",
      "jio: ['Blue Tokai Cold Brew Coffee Bags Bold Blend Made With Arabica, 225 g (5 pcs x 45 g Each)']\n",
      "bb: Cihlex C-52 Super Bass Bluetooth Earphones Neckband Headphones Long Lifes Battery Bluetooth Headset (Green, True Wireless)\n",
      "jio: ['Teamonk Nilgiris Green Tea - Zoho Lemongrass, Helps Feel Relaxed and Fresh, 2 g (25 Bags x 2 g Each)', 'Teamonk Nilgiris Green Tea - Yoshin Lemon, Helps To Feel Relaxed, 50 g (25 Bags x 2 g Each)', 'Teamonk Nilgiris Green Tea - Anicca Chamomile, Helps To Relax and Calm, 2 g (25 Bags x 2 g Each)', 'Teamonk Nilgiris Green Tea - Anicca Chamomile, Helps To Feel Relaxed and Calm, 2 g (50 Bags x 2 g Each)']\n",
      "bb: Cihlex C-50 Earbuds Earpods With Power Bank Charging Case And Bluetooth Headphone Bluetooth Headset (Black, True Wireless)\n",
      "jio: ['Blue Tokai Cold Brew Coffee Bags Bold Blend Made With Arabica, 225 g (5 pcs x 45 g Each)', 'Sancha Hibiscus Super Flower Herbal Tea - Caffeine Free, For Blood Pressure Control, Helps In Weight Loss, 25 g (25 Tea Bags x 1 g each)']\n",
      "bb: Dekorly Set of 2 Artificial Colorful Decorative Bonsai plant with Vintage Metallic look pot for living room, table, shelves, office decor\n",
      "jio: ['Pintola Dark Chocolate Almond Butter - Creamy, 200 g', 'kwality walls Choc-And-Roll Choco Brownie Fudge - Frozen Dessert,  700 ml']\n",
      "bb: RTWARE Scented Heart Shape Tealight Candle 3 hrs Burning (Pack of 30)\n",
      "jio: ['The Whole Truth High Protein Breakfast Muesli - Quinoa Choco Crunch With Added Protein, 320 g']\n",
      "bb: JaipurCrafts Brass Gramophone Showpiece, 17 CM, Gold, 1 Piece\n",
      "jio: ['Mr Gleam Micro Mitt For Bathroom - Soft Scrub and Clean, 1 pc']\n",
      "bb: Betala Fragrance Chandan Flavour Backflow Incense Dhoop Cones, Pack of 100 Pcs\n",
      "jio: ['Flavour Drum Mint Leaf Powder - Improves Digestion and Strengthens Immune System, 150 g']\n",
      "bb: Amar Impex Blue Nexus Plastic Vegetable Chopper 750 ml\n",
      "jio: ['Nutriplate India Cranberries - Rich In Vitamin, Minerals, Antioxidants, 100 g']\n",
      "bb: Amar Impex Blue Nexus Plastic Vegetable Chopper 500 ml\n",
      "jio: ['Nutriplate India Cranberries - Rich In Vitamin, Minerals, Antioxidants, 100 g']\n",
      "bb: Flair Smart Assorted Colour Rectangular Plastic Container 1 L\n",
      "jio: ['Amul Lassi - Mango Flavour,  Source of Calcium and Protein,  1 L']\n",
      "bb: Capital Kitchenware Plastic Multicolor 2 Section Push Button Storage Container (Set of 2, 2200 ml)\n",
      "jio: ['Leo Coffee - Madras Blend, Roast and Ground, with Chicory,200 gPouch', 'Cothas Coffee Coffee - Powder, Speciality Blend of Coffee and Chicory Powder,200 gPouch']\n",
      "bb: Amour Silicone Preservation Magic Kneading Dough Flour-Mixing Atta Maker Bag for Chapathy, Bread etc\n",
      "jio: ['Pediasure Complete Balanced Nutrition Powder - Arginine and Vitamin K2, Supports Immunity, For Kids, Vanilla Delight, 2 kg']\n",
      "bb: PEARLPET Checkered Airtight Jar Container Set of 18, 200 ml, 500 ml, 1000 ml, Transparent, Plastic\n",
      "jio: ['Amul Processed Cheese Spread - Creami,  Made from 100% Pure Milk,  180 g Tub']\n",
      "bb: PEARLPET Checkered Airtight Jar Container Set of 12, 200 ml, 500 ml, 1000 ml, Transparent, Plastic\n",
      "jio: ['Eastern Chicken Masala - Perfect Colour, Smell, Taste, Aromatic Spices, 100 g Pouch']\n",
      "bb: Vinod Cookware Sandwich Bottom Stainless Steel Induction Friendly Inner Lid Pressure Cooker, 7 Ltr\n",
      "jio: ['Smart Home Perfumed Cleaner - Black Phenyle, 5 L Plastic Can']\n",
      "bb: HAZEL Stainless Steel Parat | Steel Parat For Dough Flour Kneading|Atta Parat Steel For Kitchen, 29 cm, 2000 ML\n",
      "jio: ['Koparo Clean Disinfectant Floor Cleaner - Lime and Lemongrass, 0% Phosphates, Ammonia, Chlorine, For Germ-free Surface,500 ml', 'Koparo Clean Disinfectant Floor Cleaner - Lime and Lemongrass, 0% Phosphates, Ammonia, Chlorine, For Germ-free Surface,5 L']\n",
      "bb: Metal 2-Tier Countertop Fruit and Vegetable Storage Basket Holder- Black\n",
      "jio: ['Sprinng Bread - Mediterranean Herbs,  Gluten Free,  200 g Packet']\n",
      "bb: Ice Ball Maker Reusable Ice Ball Form, Easy Release Round Silicone Ice Sphere Tray with Lids for Whiskey, Cocktails, Bourbon\n",
      "jio: ['Chicco Baby Moments - Mild Body Wash, Refresh, Lotus and Meadowsweet, For Moisturised Skin, With A Refreshing Touch,100 ml', 'Chicco Baby Moments - Mild Body Wash, Refresh, Lotus and Meadowsweet, For Moisturised Skin, With A Refreshing Touch,200 ml']\n",
      "bb: Kuber Industries Check Deisgn Lid  Multi Purpose Plastic Container,1200ml,Set of 3 (Grey)\n",
      "jio: ['Slurrp Farm Protein Breakfast Spinach Dosa+ Banana Pancake (150g each) + Puffs 3X20 g, Combo 5 Items']\n",
      "bb: Kuber Industries Check Deisgn Lid Multi Purpose Plastic Container,1500ml,Set of 3 (Grey)\n",
      "jio: ['Slurrp Farm Protein Breakfast Spinach Dosa+ Banana Pancake (150g each) + Puffs 3X20 g, Combo 5 Items']\n",
      "bb: 12pcs Set Xllent Containers for Kitchen Storage Plastic Unbreakable Airtight 500ml\n",
      "jio: ['Riseup Coffee - Chikamagalur Aroma Ribbon Filter Coffee, Using 100% German Machinery to Roast and Grind, 250 g']\n",
      "bb: 12pcs Set Xllent Containers for Kitchen Storage Plastic Unbreakable Airtight 900ml\n",
      "jio: ['Riseup Coffee - Chikamagalur Aroma Ribbon Filter Coffee, Using 100% German Machinery to Roast and Grind, 250 g']\n",
      "bb: Pioneer Gasket Compatible With Prestige Svachh 5 Litres Outer Lid Pressure Cooker (Pack of 2)\n",
      "jio: ['PureCult Fabric Conditioner With Geranium and Lavender - Eco-Friendly, Refreshing Fragrance, 5 L']\n",
      "bb: User Choise Brown Round Plastic Storage Container Gift Set (Set of 12)\n",
      "jio: ['Pigeon Steel Breast Pads - Ultra-slim, Lightweight, Greatest Comfort, 12 pcs']\n",
      "bb: Carliber Multicolor Stainless Steel Airtight Leakproof Square Shape Lunch Box With Spoon For School,Office And College\n",
      "jio: ['Aristo Luxor Plastic Fruit and Vegetable Plastic Basket With Lid - Assorted Colour, 2 L']\n",
      "bb: SHOP BY ROOM Off White Color Extra Large Wet and Dry Floor Cleaning Cloth,Pottu, Pocha -18 inch x 18 inch - Pack of 4\n",
      "jio: ['Huggies Nature Care Pants - With Organic Cotton, Monthly Pack, Large, pH Balanced Liner, For Delicate Skin, 104 pcs', 'Confect Love Disco Balls Sprinkles 4 MM - White, For Baking, 100% Vegan, Gluten Free and Jain Friendly, 120 g']\n",
      "bb: SHOP BY ROOM Off White Color Extra Large Wet and Dry Floor Cleaning Cloth,Pottu, Pocha -26 inch x 26 inch - Pack of 4\n",
      "jio: ['THE ROOTED CO. Roasted Muesli Cereals - Cocoa and Cranberry, High Fibre, Healthy Breakfast, 400 g']\n",
      "bb: Shop By Room 350 GSM Microfibre Cleaning Cloth - 40 cm x 40 (Multi Color, Pack of 4\n",
      "jio: ['4700BC Protein Pops - Simply Roasted, Foxnuts/Makhana, Gluten Free, Healthy Snack, 35 g']\n",
      "bb: Shubhkart Brass Kuber Goblet 105 g\n",
      "jio: ['Britannia Gobbles Choco ChillCake,  115 g, 110 g']\n",
      "bb: Mangaldeep Lavender Agarbatti 76 pcs\n",
      "jio: ['Mangaldeep Lavender Agarbatti, 76 Sticks']\n",
      "bb: Shubhkart Haldi Powder 50 g\n",
      "jio: ['Shubhkart Haldi Powder, 50 g']\n",
      "bb: Shubhkart Vibhuti Powder 100 g\n",
      "jio: ['Shubhkart Vibhuti Powder, 100 g']\n",
      "bb: Hari Darshan Pure 100% Natural Devgandh Sambrani Cups (Pack of 2, 12 Cups in Each)\n",
      "jio: ['Herbal Strategi Herbal Room Disinfectant and Freshener - Lavender, No Chemicals, 250 ml']\n",
      "bb: The Aroma Factory Gugal Dhoop Batti Sticks ,100gm, 1 bottle\n",
      "jio: ['True Elements Starter Gift Hamper Pack - Best Savoury and Sweet Delights, Assorted Flavours, 210 g']\n",
      "bb: Hem Precious Intimate Agarbatti 100 g\n",
      "jio: ['Hem Precious Agarbatti - Intimate, 100 g']\n",
      "bb: Deli Adhesive Bright Colours Sticky Notes, Detachable & Repositionable Rectangle Shape Tab Memo Pad\n",
      "jio: ['The Moms Co Natural Baby Water Wipes - Aloe Vera and Calendula, Prevents Rashes, Nourishes Skin, 72 pcs']\n",
      "bb: Deli Adhesive Bright Colour Sticky Notes, Detachable & Repositionable Rectangle Shape Tab Memo Pad\n",
      "jio: ['The Moms Co Natural Baby Water Wipes - Aloe Vera and Calendula, Prevents Rashes, Nourishes Skin, 72 pcs']\n",
      "bb: Pmw - Empty Oil cans for Sewing Machines - 100 Ml Cans - 10 Cans - Sewing Machine Empty Oil Can\n",
      "jio: ['Earthon Organic Roasted Sunflower Seeds, 100 g']\n",
      "bb: Eduway Medium Grain 10x12 inch Cotton Black Canvas Board- Pack of 1, (25x30 cms) with 4mm MDF Board Backing, For Painting.\n",
      "jio: ['FLISTAA Blushing Berry Strawberry Milkshake MiX Powder - No Added Preservatives,  Calcium Enriched,  120 g (3NX40 g each)']\n",
      "bb: Toyxe Multicolor Paper, Aluminium, Rubber Happy Birthday Letter Balloons, Square Cuttings Backdrop Curtain, Foil Balloons, Metallic Balloons\n",
      "jio: ['Tablespoon Fish Curry Masala - Blend Of 8 Ingredients, Rich Aroma, Freshness Locked, 75 g Pouch']\n",
      "bb: MONOPOLY Multicolor Classic Fantasy Board Game Play for Families and Kids Ages 8 and Up,\n",
      "jio: ['By Nature Almond Flour - Low Carb Keto, 200 g']\n",
      "bb: Webby Foldable Hut Shaped Slide Toy for Kids at Home, School & Garden with Basket Ball Ring, Multicolor, Medium (SLDWB)\n",
      "jio: ['Henko Matic Top Load Detergent Powder - With Nano Fibre Lock Technology, Removes Tough Stains, 4 kg (Get 2 kg Free)']\n",
      "bb: Jaspo Multicolor Outdoor Sport Bicycle Breathable Cycling Helmet, S\n",
      "jio: ['Cropino Classic Peanut Butter - Creamy, Rich In Protein and Fibre,200 g']\n",
      "bb: Glass Chess Game Set - Clear and Blue Pieces and Magnetic Board, Multi Games - 10 Inch\n",
      "jio: ['Sancha Marrakech Double Mint Green Tea - Immune and Metabolism Booster, 100 g']\n",
      "bb: Parteet Cash Cannon Money Gun For Wedding, Parties And Fun Include 100 Fake Dollar- Red- Multi Color\n",
      "jio: ['Didier and Frank  Mint Dark Chocolate - Rich In Flavour and Taste, 100 g']\n",
      "bb: PowerMax Fitness 4mm Thick Premium Exercise Grey Color Yoga Mat, Ultra-Dense Cushioning for Support\n",
      "jio: ['Trm Premium Plastic Hanging Cloth Drying Clips - 2mm, Pink, 24 pcs']\n",
      "bb: Pmw - Panther Brand, Tiger Brand, Peacock Brand, Cycle Brand etc 5 Different Brands Of Slate Pencils -Stationery Slate Pencil Natural Lime Stone Chalk - Each 1 box - Total 5 Boxes\n",
      "jio: ['Bun Maska  Ready To Eat Healthy Lime Cilantro Salad Dressing 100% Vegan and Low Carb, 270 g']\n",
      "bb: Enorme 60 Pcs Domino Train , Rally Model with Lights and Bulding Construction and Stacking Toys\n",
      "jio: ['RED BULL  The Green Edition Energy Drink - Dragon Fruit Flavour, Caffeinated Beverage, 250 ml Can']\n",
      "bb: Boldfit Yoga Mat for Women and Men with Carry Strap, Extra Thick Exercise mat for Workout , Grey 6mm\n",
      "jio: ['Britannia Toastea Premium Bake Rusk - With Real Elaichi,  Crunchy,  Zero Trans Fat,  700 g']\n",
      "bb: Boldfit Yoga Mat for Women and Men Thick Exercise mat for Workout Yoga Fitness Pilates, Grey Colour\n",
      "jio: ['Britannia Toastea Premium Bake Rusk - With Real Elaichi,  Crunchy,  Zero Trans Fat,  700 g']\n",
      "bb: Boldfit Compact Gym Shaker Bottle, Shaker Bottles For Protein Shake, 500ml\n",
      "jio: ['Phalada Pure and Sure Organic Ginger Cooking Paste - Immunity Booster, 150 g']\n",
      "bb: Big Size 65CM Funny Star Wars Unicorn Stuffed Animal Plush Toy, Safe for Kids, Soft Toy, Pink\n",
      "jio: ['WHITTAKERS Creamy Milk Berry and Biscuit Chocolate Bar - Rich Flavour, Superior Taste, 250 g']\n",
      "bb: Duck Toys Bath Tub Chu Chu Bath Baby Made in Safe Non-Toxic Rattle for New Born Baby Children Infant Products Best for Baby First Toys\n",
      "jio: ['Mee Mee Stay Warm Baby Feeding Bowl - With Suction Base, Non-Toxic, BPA Free, Red, 1 pc', 'Mee Mee Stay Warm Baby Feeding Bowl - With Suction Base, Non-Toxic, BPA Free, Blue, 1 pc']\n",
      "bb: Harpic Hygienic Lavender Toilet Rim Block 26 g\n",
      "jio: ['Harpic Hygienic Toilet Cleaner Rim Block, Citrus, 26 g', 'Harpic Hygienic Toilet Cleaner Rim Block, Jasmine, 26 g', 'Harpic Hygienic Toilet Cleaner Rim Block, Lavender, 26 g']\n",
      "bb: Savlon Surface Disinfectant Spray 170 g\n",
      "jio: ['Savlon Surface Disinfectant Spray,170 g']\n"
     ]
    }
   ],
   "source": [
    "perm_funcs = 256\n",
    "\n",
    "lsh = MinHashLSH(threshold=0.9, num_perm=perm_funcs)\n",
    "\n",
    "for product_name in list_product_name_bb[:20000]:\n",
    "    m = MinHash(num_perm=perm_funcs)\n",
    "    try:\n",
    "        product_name_char_set = set(product_name)\n",
    "        for product_name_char in product_name_char_set:\n",
    "            m.update(product_name_char.encode('utf8'))\n",
    "            #print(brand_char)\n",
    "        #print(product_name)\n",
    "        lsh.insert(product_name, m)\n",
    "    except Exception as e:\n",
    "        print(product_name)\n",
    "        print(e)\n",
    "        continue\n",
    "\n",
    "product_name_dup_jio = []\n",
    "product_name_dup_bb = []\n",
    "\n",
    "for product_name in list_product_name_jio[:20000]:\n",
    "    m = MinHash(num_perm=perm_funcs)\n",
    "    try:\n",
    "        product_name_char_set = set(product_name)\n",
    "        for product_name_char in product_name_char_set:\n",
    "            m.update(product_name_char.encode('utf8'))\n",
    "        results = lsh.query(m)\n",
    "        if len(results)>0:\n",
    "            #print(result)   \n",
    "            print('bb:',product_name)\n",
    "            print('jio:',results)\n",
    "            product_name_dup_bb.append(product_name)\n",
    "            for result in results:\n",
    "                product_name_dup_jio.append(result)\n",
    "    except Eception as e: \n",
    "        print(product_name)\n",
    "        print(e)\n",
    "        continue"
   ]
  },
  {
   "cell_type": "code",
   "execution_count": 191,
   "id": "b673c972-065a-4aac-af01-de34e83cf282",
   "metadata": {},
   "outputs": [
    {
     "data": {
      "text/plain": [
       "['BRU Instant Coffee,50 g',\n",
       " 'Beanies Flavour Instant Coffee - Creamy Caramel, 50 g Bottle',\n",
       " 'Beanies Flavour Instant Coffee - Double Chocolate, 50 g Bottle',\n",
       " 'Beanies Flavour Instant Coffee - Very Vanilla, 50 g Bottle',\n",
       " 'Cream Bell Cappuccino Truffle Cone Ice Cream - Rich and Creamy,  Delightful Flavour,  130 ml',\n",
       " 'Delight Nuts Tit Bit Mouth Freshener - Helps Boost Immunity and Digestion, Rich In Vitamin C, 130 g',\n",
       " 'Johnsons Baby Cottontouch Newborn Massage Oil, 100 ml',\n",
       " 'Colombian Brew Coffee Instant Coffee Powder - High Caffeine Espresso, Strong, 50 g (25 Sachets)',\n",
       " 'Nutriorg Certified Organic Mustard Oil, 500 ml Plastic Bottle',\n",
       " 'Colorado Vinegar - Natural, 500 ml Pet Bottle',\n",
       " 'Nutriorg Certified Organic Mustard Oil, 500 ml Plastic Bottle',\n",
       " 'Colorado Vinegar - Natural, 500 ml Pet Bottle',\n",
       " 'Nutriorg Certified Organic Mustard Oil, 500 ml Plastic Bottle',\n",
       " 'Colorado Vinegar - Natural, 500 ml Pet Bottle',\n",
       " 'Nutriwish Pea Protein Powder Super Food 200 g + Unflavoured Whey Protein 200 g, Combo 2 Items',\n",
       " 'Davidoff Fine Aroma Instant Coffee, 100 g Bottle',\n",
       " 'Monster Energy Drink, 350 ml',\n",
       " 'Coolberg Non Alcoholic Beer - Strawberry,330 mlBottle',\n",
       " 'Princeware Dust Pan - Super (No- 2), Assorted Color, 1 pc',\n",
       " 'Paper Boat Chilli Guava Fruit Juice,200 ml',\n",
       " 'Raw Pressery Cold Extracted Juice - Mixed Fruit,1 L',\n",
       " 'Weikfield Drinking Chocolate Powder,100 gBottle',\n",
       " \"Horlicks Women's Plus, Chocolate, 400 g Carton\",\n",
       " \"Horlicks Women's Plus, Caramel,400 gCarton\",\n",
       " 'Horlicks Protein Plus, Chocolate,200 g',\n",
       " 'Cadbury Dairy Milk Silk Fruit and Nut Chocolate Bar,2x137 gMultipack',\n",
       " 'Aquafina Packaged Drinking Water,2 L',\n",
       " 'Aquafina Packaged Drinking Water,500 ml',\n",
       " 'Girnar Royal Cup Tea,250 g',\n",
       " 'Red Label Tea - Natural Care,1 kg',\n",
       " 'Wagh Bakri Green Tea, 100 g',\n",
       " 'Eco Valley  Organic Classic Green Tea, 30 pcs',\n",
       " 'Eco Valley  Organic Green Tea - Sunny Lemony, 30 pcs',\n",
       " 'TGL Co. Kadak Masala Chai Tea CTC, 100 g',\n",
       " 'Colombian Brew Coffee Instant Coffee 3 In 1 Premix - Double Chocolate Mocha, Cafe Latte, 200 g (10 Sachets x 20 g each)',\n",
       " 'Tetley Green Tea - Ginger Mint and Lemon, Rich In Antioxidants,14 g(10 Bags x 14 g each)',\n",
       " 'Tetley Green Tea - Ginger Mint and Lemon, Rich In Antioxidants,140 g(100 Bags x 14 g each)',\n",
       " 'Anveshan Organic Roasted Flax Seeds Roasted With Turmeric and Lemon Juice,650 g',\n",
       " 'Mother Sparsh Tummy Roll-On Baby Hing and Saunf Oil - 100% Ayurvedic, Helps Relief Colic, Digestion, 40 ml',\n",
       " 'TGL Co. Bombay Cutting Chai Instant Tea Premix Tea, 196 g (14 Sachets x 14 g each)',\n",
       " 'Tablespoon Tandoori Tikka Masala - Blend Of 22 Ingredients, Rich Aroma, Freshness Locked, 75 g Pouch',\n",
       " 'Christopher Cocoa Professional Baking Soda - All Purpose,  Add To Cakes,  Bread and Brownies,  250 g',\n",
       " 'Tablespoon Panch Phoron Masala - Blend Of 5 Ingredients, Rich Aroma, Freshness Locked, 75 g Pouch',\n",
       " 'Sri Sri Tattva Premium Cow Ghee, 1 Litre - For Better Digestion and Immunity,500 mlCeka Pack',\n",
       " 'Slice Thickest Mango Drink,12 L',\n",
       " 'Tablespoon Masala - Delhi Chole, 100 g Jar',\n",
       " 'klemax Disinfectant Toilet Cleaner - Sparkling Clean, Removes Tough Stains, 5 L',\n",
       " 'Jacker  Potato Crisps - Barbecue Flavour,160 gJar',\n",
       " 'Cadbury Chocobakes Choc Filled Cookies/Biscuits - Family Pack, 2X150 gMultipack',\n",
       " \"Envome 4'' Round Areca Leaf disposable Bowl - Eco-Friendly, Lightweight, Leakproof, Chemical Free, 6 pcs\",\n",
       " 'Huggies Wonder Diaper Pants - Medium, Bubble-bed, Pure Softness, Monthly Pack, 152 pcs Polybag',\n",
       " 'Scotch brite Sponge Wipes for Kitchen cleaning, Re-usable Absorbent and Surface Cleaner, 5 pcs',\n",
       " 'Toblerone Swiss Dark Chocolate With Honey and Almond Nougat - Tiny, 272 g Bag',\n",
       " 'True Elements Dark Chocolate Granola - High Protein and Antioxidant, Ready To Eat Breakfast, 700 g Pouch',\n",
       " 'BATTER CHATTER Jeera Cookies - Crunchy Snack,  Healthy,  Improves Digestion,  200 g',\n",
       " 'OATEY Chocolate Oat Drink - Stevia Based, Non-dairy, Vegan, Nut Free, No-added Sugar, 200 ml',\n",
       " 'The Belgian No Sugar Added Dark Chocolate - Almond, 100 g Carton',\n",
       " 'DON MONTE Pumpkin Seeds - Minerals and Vitamins Rich, For Cooking, Baking Use, 200 g',\n",
       " 'Sparkmate By Crystal Easy Cloth Brush - Soft On Clothes, Removes Tough Stains and Dirt, Blue, 1 pc',\n",
       " 'Sri Sri Tattva Bengal Gram Chana Dal - Split, Rich In Protein, Highly Nutritious, For Easy Digestion, 1 kg',\n",
       " 'The Belgian No Sugar Added Dark Chocolate - Almond, 100 g Carton',\n",
       " 'DON MONTE Pumpkin Seeds - Minerals and Vitamins Rich, For Cooking, Baking Use, 200 g',\n",
       " 'The Belgian No Sugar Added Dark Chocolate - Almond, 100 g Carton',\n",
       " 'DON MONTE Pumpkin Seeds - Minerals and Vitamins Rich, For Cooking, Baking Use, 200 g',\n",
       " 'MAVANA AGARBATHIES Premium Flora - High-Quality, Dense Fragrance, For Prayers, Positive Ambience, 100 g Family Pack',\n",
       " 'MAVANA AGARBATHIES Black Sign Incense Sticks - High-Quality, Dense Fragrance, For Prayers, Positive Ambience, 100 g',\n",
       " 'Anthon Berg Dessert Chokolader Chocolates - Signature, Sweet, 250 g',\n",
       " 'The Belgian No Sugar Added Dark Chocolate - Almond, 100 g Carton',\n",
       " 'DON MONTE Pumpkin Seeds - Minerals and Vitamins Rich, For Cooking, Baking Use, 200 g',\n",
       " 'DON MONTE Pumpkin Seeds - Minerals and Vitamins Rich, For Cooking, Baking Use, 200 g',\n",
       " 'MAVANA AGARBATHIES Premium Flora - High-Quality, Dense Fragrance, For Prayers, Positive Ambience, 100 g Family Pack',\n",
       " 'MAVANA AGARBATHIES Black Sign Incense Sticks - High-Quality, Dense Fragrance, For Prayers, Positive Ambience, 100 g',\n",
       " 'The Belgian No Sugar Added Dark Chocolate - Almond, 100 g Carton',\n",
       " 'DON MONTE Pumpkin Seeds - Minerals and Vitamins Rich, For Cooking, Baking Use, 200 g',\n",
       " 'The Belgian No Sugar Added Dark Chocolate - Almond, 100 g Carton',\n",
       " 'The Belgian No Sugar Added Dark Chocolate - Almond, 100 g Carton',\n",
       " 'DON MONTE Pumpkin Seeds - Minerals and Vitamins Rich, For Cooking, Baking Use, 200 g',\n",
       " 'The Belgian No Sugar Added Dark Chocolate - Almond, 100 g Carton',\n",
       " 'True Elements Starter Gift Hamper Pack - Best Savoury and Sweet Delights, Assorted Flavours, 210 g',\n",
       " 'MAVANA AGARBATHIES Premium Flora - High-Quality, Dense Fragrance, For Prayers, Positive Ambience, 100 g Family Pack',\n",
       " 'MAVANA AGARBATHIES Black Sign Incense Sticks - High-Quality, Dense Fragrance, For Prayers, Positive Ambience, 100 g',\n",
       " 'Phalada Pure and Sure Organic Coffee Decoction - Bold, Instant Mix, Authentic Flavours and Taste, 160 ml Pack',\n",
       " 'Phalada Pure and Sure Organic Coffee Decoction - Bold, Instant Mix, Authentic Flavours and Taste, 160 ml Pack',\n",
       " 'Wingreens Farms Original Recipe - Tomato Ketchup, 2 x 950 g Multipack',\n",
       " 'Aashirvaad Sambar Masala - Handpicked Spices and Authentic Taste, 100 g',\n",
       " 'Sakurafresh Caper Berries Pickle, 300 g',\n",
       " \"The Baker's Dozen Lavash - 100% Wholewheat, 100 g\",\n",
       " 'American Garden  Bread Crumbs - Plain, 425 g',\n",
       " 'The Laughing Cow Cheese Spread - Plain, 180 g',\n",
       " 'The Laughing Cow Cheese Spread - Plain,180 g',\n",
       " 'The Laughing Cow Cheese Cubes, 200 g(10 Cubes)',\n",
       " 'The Laughing Cow Cheese Cubes,200 g(10 Cubes)',\n",
       " 'Delicious Fat Spread, 100 gCarton',\n",
       " 'Epigamia  Greek Yogurt - Natural,  90 g Cup',\n",
       " 'Epigamia  Greek Yogurt - Wild,  Raspberry, 90 gCup',\n",
       " 'Amul Lite Milk Fat Bread Spread, 100 gCarton',\n",
       " 'Milky Mist Shrikhand - Elaichi, 100 gCup',\n",
       " 'GoodDiet Multigrain Puffs - Butter Makhana, 30 g',\n",
       " 'Chicco Baby Moments - Mild Body Wash, Refresh, Lotus and Meadowsweet, For Moisturised Skin, With A Refreshing Touch,100 ml',\n",
       " 'Soyfit Tofu Supreme - Chilli,  200 g',\n",
       " 'Soyfit Tofu Supreme - Chilli, 200 g',\n",
       " 'Twinings Green Tea - Green Apple, 50 g (25 Bags x 2 g each)',\n",
       " 'Ambipur Car Air Freshener Refill - Lavender Spa, 7.5 ml Pouch',\n",
       " 'Godrej Aer Twist Gel - Car Air Freshener, Fresh Lush Green, 45 g',\n",
       " 'Godrej Aer Twist Gel - Car Air Freshener, Petal Crush Pink, 45 g',\n",
       " 'Brodees Disposable Bowl - Round, White, Ecofriendly, Lightweight, Easy To Carry, 180 ml (Pack of 25)',\n",
       " 'Nourish Organics Immunity - Amla Cashew Bar, Rich In Vitamin C, Sweet Taste, Healthy Snack, 30 g (Pack of 6)',\n",
       " 'Huggies Wonder Diaper Pants - Medium, Bubble-bed, Pure Softness, Monthly Pack, 152 pcs Polybag',\n",
       " 'Orika Smokey Garlic Marinade, 75 g Standy pouch',\n",
       " 'Omypop Popcorn Hokkaido Milkycoco Flavour - Rich In Fibre, Gluten Free, 85 g',\n",
       " 'Mee Mee Premium Breathable New Born  Diapers, 12 pcs (Pack of 2)',\n",
       " 'Brodees Disposable Bowl - Round, White, Ecofriendly, Lightweight, Easy To Carry, 360 ml (Pack of 25)',\n",
       " 'Dabur One Touch Air Purifier Freshener - Natural Spring Refill, 12 ml',\n",
       " \"Vinayaka's Black Fantacy Premium Incense Sticks, 60 g\",\n",
       " 'Lindberg Assorted Gift Box - Pure Belgian Chocolate Truffles,10x270 gm 25 pcsMultipack',\n",
       " 'Sparkmate By Crystal Stainless Steel Scourer - Tough On Utensils, Jumbo Triple Twenty Pack, 1 pc',\n",
       " 'Twix Crunchy Cookie Chocolate Bar - With Smooth Caramel, Chewy, 50 g',\n",
       " 'Snickers Premium Chocolates Gift Pack - Assorted, For Your Loved Ones, Rakhi and Special Occasions, 150 g',\n",
       " '1st Bites Baby Cereals - Stage 3, 10 To 24 Months, 100% Organic Wheat, Spinach and Carrot Based Infant Food,300 gPack of 3',\n",
       " '1st Bites Baby Cereals - Stage 3, 10 To 24 Months, 100% Organic Wheat, Spinach and Carrot Based Infant Food,300 gPack of 3',\n",
       " '1st Bites Baby Cereals - Stage 3, 10 To 24 Months, 100% Organic Wheat, Spinach and Carrot Based Infant Food,300 gPack of 3',\n",
       " 'Klassic Disposable Biodegradable Bagasse Bowl - Square, Eco-Friendly, Light Weight, 220 ml (Pack of 25)',\n",
       " 'Batchelors Cup A Soup - Tomato and Vegetable, 104 g Carton',\n",
       " 'Lotus Biscuit - Caramelised, The Original, Biscoff, 124 g',\n",
       " 'Milky Mist Table Butter - Salted,  Pasteurised,  Rich,  Creamy,  100 g',\n",
       " 'Batchelors Cup A Soup - Tomato and Vegetable, 104 g Carton',\n",
       " 'Pediasure Complete Balanced Nutrition Powder - Arginine and Vitamin K2, Supports Immunity, For Kids, Chocolate, 2 kg',\n",
       " 'Teamonk Nilgiri Green Tea - Taido Ginger, May Help With Weight Management, 2 g (50 Bags x 2 g Each)',\n",
       " 'Teamonk Nilgiris Green Tea - Zoho Lemongrass, Helps Feel Relaxed and Fresh, 2 g (25 Bags x 2 g Each)',\n",
       " 'Teamonk Nilgiris Green Tea - Yoshin Lemon, Helps To Feel Relaxed, 50 g (25 Bags x 2 g Each)',\n",
       " 'Teamonk Nilgiris Green Tea - Anicca Chamomile, Helps To Relax and Calm, 2 g (25 Bags x 2 g Each)',\n",
       " 'Teamonk Nilgiris Green Tea - Anicca Chamomile, Helps To Feel Relaxed and Calm, 2 g (50 Bags x 2 g Each)',\n",
       " 'Brodees Disposable Bowl - Round, White, Ecofriendly, Lightweight, Easy To Carry, 180 ml (Pack of 25)',\n",
       " 'Teamonk Nilgiris Green Tea - Zoho Lemongrass, Helps Feel Relaxed and Fresh, 2 g (25 Bags x 2 g Each)',\n",
       " 'Teamonk Nilgiris Green Tea - Yoshin Lemon, Helps To Feel Relaxed, 50 g (25 Bags x 2 g Each)',\n",
       " 'Teamonk Nilgiris Green Tea - Anicca Chamomile, Helps To Relax and Calm, 2 g (25 Bags x 2 g Each)',\n",
       " 'Teamonk Nilgiris Green Tea - Anicca Chamomile, Helps To Feel Relaxed and Calm, 2 g (50 Bags x 2 g Each)',\n",
       " 'Fabbox Roasted Almonds - Peri Peri, Premium California Badam, Healthy Snack, Superfood,70 gPouch',\n",
       " 'Fabbox Roasted Almonds - Peri Peri, Premium California Badam, Healthy Snack, Superfood,2x70 gMultipack',\n",
       " 'Everyday Four Afghan Black Raisins - Seedless, Helps In Anaemia, Prevents Cancer, 200 g',\n",
       " 'Huggies Wonder Diaper Pants - Extra Large, Bubble-bed, Pure Softness, Monthly Pack, 112 pcs Polybag',\n",
       " 'Blue Tokai Cold Brew Coffee Bags Bold Blend Made With Arabica, 225 g (5 pcs x 45 g Each)',\n",
       " 'Teamonk Nilgiris Green Tea - Zoho Lemongrass, Helps Feel Relaxed and Fresh, 2 g (25 Bags x 2 g Each)',\n",
       " 'Teamonk Nilgiris Green Tea - Yoshin Lemon, Helps To Feel Relaxed, 50 g (25 Bags x 2 g Each)',\n",
       " 'Teamonk Nilgiris Green Tea - Anicca Chamomile, Helps To Relax and Calm, 2 g (25 Bags x 2 g Each)',\n",
       " 'Teamonk Nilgiris Green Tea - Anicca Chamomile, Helps To Feel Relaxed and Calm, 2 g (50 Bags x 2 g Each)',\n",
       " 'Teamonk Nilgiris Green Tea - Zoho Lemongrass, Helps Feel Relaxed and Fresh, 2 g (25 Bags x 2 g Each)',\n",
       " 'Teamonk Nilgiris Green Tea - Yoshin Lemon, Helps To Feel Relaxed, 50 g (25 Bags x 2 g Each)',\n",
       " 'Teamonk Nilgiris Green Tea - Anicca Chamomile, Helps To Relax and Calm, 2 g (25 Bags x 2 g Each)',\n",
       " 'Teamonk Nilgiris Green Tea - Anicca Chamomile, Helps To Feel Relaxed and Calm, 2 g (50 Bags x 2 g Each)',\n",
       " 'Blue Tokai Cold Brew Coffee Bags Bold Blend Made With Arabica, 225 g (5 pcs x 45 g Each)',\n",
       " 'Teamonk Nilgiris Green Tea - Zoho Lemongrass, Helps Feel Relaxed and Fresh, 2 g (25 Bags x 2 g Each)',\n",
       " 'Teamonk Nilgiris Green Tea - Yoshin Lemon, Helps To Feel Relaxed, 50 g (25 Bags x 2 g Each)',\n",
       " 'Teamonk Nilgiris Green Tea - Anicca Chamomile, Helps To Relax and Calm, 2 g (25 Bags x 2 g Each)',\n",
       " 'Teamonk Nilgiris Green Tea - Anicca Chamomile, Helps To Feel Relaxed and Calm, 2 g (50 Bags x 2 g Each)',\n",
       " 'Blue Tokai Cold Brew Coffee Bags Bold Blend Made With Arabica, 225 g (5 pcs x 45 g Each)',\n",
       " 'Sancha Hibiscus Super Flower Herbal Tea - Caffeine Free, For Blood Pressure Control, Helps In Weight Loss, 25 g (25 Tea Bags x 1 g each)',\n",
       " 'Pintola Dark Chocolate Almond Butter - Creamy, 200 g',\n",
       " 'kwality walls Choc-And-Roll Choco Brownie Fudge - Frozen Dessert,  700 ml',\n",
       " 'The Whole Truth High Protein Breakfast Muesli - Quinoa Choco Crunch With Added Protein, 320 g',\n",
       " 'Mr Gleam Micro Mitt For Bathroom - Soft Scrub and Clean, 1 pc',\n",
       " 'Flavour Drum Mint Leaf Powder - Improves Digestion and Strengthens Immune System, 150 g',\n",
       " 'Nutriplate India Cranberries - Rich In Vitamin, Minerals, Antioxidants, 100 g',\n",
       " 'Nutriplate India Cranberries - Rich In Vitamin, Minerals, Antioxidants, 100 g',\n",
       " 'Amul Lassi - Mango Flavour,  Source of Calcium and Protein,  1 L',\n",
       " 'Leo Coffee - Madras Blend, Roast and Ground, with Chicory,200 gPouch',\n",
       " 'Cothas Coffee Coffee - Powder, Speciality Blend of Coffee and Chicory Powder,200 gPouch',\n",
       " 'Pediasure Complete Balanced Nutrition Powder - Arginine and Vitamin K2, Supports Immunity, For Kids, Vanilla Delight, 2 kg',\n",
       " 'Amul Processed Cheese Spread - Creami,  Made from 100% Pure Milk,  180 g Tub',\n",
       " 'Eastern Chicken Masala - Perfect Colour, Smell, Taste, Aromatic Spices, 100 g Pouch',\n",
       " 'Smart Home Perfumed Cleaner - Black Phenyle, 5 L Plastic Can',\n",
       " 'Koparo Clean Disinfectant Floor Cleaner - Lime and Lemongrass, 0% Phosphates, Ammonia, Chlorine, For Germ-free Surface,500 ml',\n",
       " 'Koparo Clean Disinfectant Floor Cleaner - Lime and Lemongrass, 0% Phosphates, Ammonia, Chlorine, For Germ-free Surface,5 L',\n",
       " 'Sprinng Bread - Mediterranean Herbs,  Gluten Free,  200 g Packet',\n",
       " 'Chicco Baby Moments - Mild Body Wash, Refresh, Lotus and Meadowsweet, For Moisturised Skin, With A Refreshing Touch,100 ml',\n",
       " 'Chicco Baby Moments - Mild Body Wash, Refresh, Lotus and Meadowsweet, For Moisturised Skin, With A Refreshing Touch,200 ml',\n",
       " 'Slurrp Farm Protein Breakfast Spinach Dosa+ Banana Pancake (150g each) + Puffs 3X20 g, Combo 5 Items',\n",
       " 'Slurrp Farm Protein Breakfast Spinach Dosa+ Banana Pancake (150g each) + Puffs 3X20 g, Combo 5 Items',\n",
       " 'Riseup Coffee - Chikamagalur Aroma Ribbon Filter Coffee, Using 100% German Machinery to Roast and Grind, 250 g',\n",
       " 'Riseup Coffee - Chikamagalur Aroma Ribbon Filter Coffee, Using 100% German Machinery to Roast and Grind, 250 g',\n",
       " 'PureCult Fabric Conditioner With Geranium and Lavender - Eco-Friendly, Refreshing Fragrance, 5 L',\n",
       " 'Pigeon Steel Breast Pads - Ultra-slim, Lightweight, Greatest Comfort, 12 pcs',\n",
       " 'Aristo Luxor Plastic Fruit and Vegetable Plastic Basket With Lid - Assorted Colour, 2 L',\n",
       " 'Huggies Nature Care Pants - With Organic Cotton, Monthly Pack, Large, pH Balanced Liner, For Delicate Skin, 104 pcs',\n",
       " 'Confect Love Disco Balls Sprinkles 4 MM - White, For Baking, 100% Vegan, Gluten Free and Jain Friendly, 120 g',\n",
       " 'THE ROOTED CO. Roasted Muesli Cereals - Cocoa and Cranberry, High Fibre, Healthy Breakfast, 400 g',\n",
       " '4700BC Protein Pops - Simply Roasted, Foxnuts/Makhana, Gluten Free, Healthy Snack, 35 g',\n",
       " 'Britannia Gobbles Choco ChillCake,  115 g, 110 g',\n",
       " 'Mangaldeep Lavender Agarbatti, 76 Sticks',\n",
       " 'Shubhkart Haldi Powder, 50 g',\n",
       " 'Shubhkart Vibhuti Powder, 100 g',\n",
       " 'Herbal Strategi Herbal Room Disinfectant and Freshener - Lavender, No Chemicals, 250 ml',\n",
       " 'True Elements Starter Gift Hamper Pack - Best Savoury and Sweet Delights, Assorted Flavours, 210 g',\n",
       " 'Hem Precious Agarbatti - Intimate, 100 g',\n",
       " 'The Moms Co Natural Baby Water Wipes - Aloe Vera and Calendula, Prevents Rashes, Nourishes Skin, 72 pcs',\n",
       " 'The Moms Co Natural Baby Water Wipes - Aloe Vera and Calendula, Prevents Rashes, Nourishes Skin, 72 pcs',\n",
       " 'Earthon Organic Roasted Sunflower Seeds, 100 g',\n",
       " 'FLISTAA Blushing Berry Strawberry Milkshake MiX Powder - No Added Preservatives,  Calcium Enriched,  120 g (3NX40 g each)',\n",
       " 'Tablespoon Fish Curry Masala - Blend Of 8 Ingredients, Rich Aroma, Freshness Locked, 75 g Pouch',\n",
       " 'By Nature Almond Flour - Low Carb Keto, 200 g',\n",
       " 'Henko Matic Top Load Detergent Powder - With Nano Fibre Lock Technology, Removes Tough Stains, 4 kg (Get 2 kg Free)',\n",
       " 'Cropino Classic Peanut Butter - Creamy, Rich In Protein and Fibre,200 g',\n",
       " 'Sancha Marrakech Double Mint Green Tea - Immune and Metabolism Booster, 100 g',\n",
       " 'Didier and Frank  Mint Dark Chocolate - Rich In Flavour and Taste, 100 g',\n",
       " 'Trm Premium Plastic Hanging Cloth Drying Clips - 2mm, Pink, 24 pcs',\n",
       " 'Bun Maska  Ready To Eat Healthy Lime Cilantro Salad Dressing 100% Vegan and Low Carb, 270 g',\n",
       " 'RED BULL  The Green Edition Energy Drink - Dragon Fruit Flavour, Caffeinated Beverage, 250 ml Can',\n",
       " 'Britannia Toastea Premium Bake Rusk - With Real Elaichi,  Crunchy,  Zero Trans Fat,  700 g',\n",
       " 'Britannia Toastea Premium Bake Rusk - With Real Elaichi,  Crunchy,  Zero Trans Fat,  700 g',\n",
       " 'Phalada Pure and Sure Organic Ginger Cooking Paste - Immunity Booster, 150 g',\n",
       " 'WHITTAKERS Creamy Milk Berry and Biscuit Chocolate Bar - Rich Flavour, Superior Taste, 250 g',\n",
       " 'Mee Mee Stay Warm Baby Feeding Bowl - With Suction Base, Non-Toxic, BPA Free, Red, 1 pc',\n",
       " 'Mee Mee Stay Warm Baby Feeding Bowl - With Suction Base, Non-Toxic, BPA Free, Blue, 1 pc',\n",
       " 'Harpic Hygienic Toilet Cleaner Rim Block, Citrus, 26 g',\n",
       " 'Harpic Hygienic Toilet Cleaner Rim Block, Jasmine, 26 g',\n",
       " 'Harpic Hygienic Toilet Cleaner Rim Block, Lavender, 26 g',\n",
       " 'Savlon Surface Disinfectant Spray,170 g']"
      ]
     },
     "execution_count": 191,
     "metadata": {},
     "output_type": "execute_result"
    }
   ],
   "source": [
    "product_name_dup_jio\n",
    "#print(product_name_dup_bb[:10])"
   ]
  },
  {
   "cell_type": "code",
   "execution_count": 192,
   "id": "48d9dd6b-2e61-4785-802c-c1c40c4347ad",
   "metadata": {},
   "outputs": [
    {
     "data": {
      "text/plain": [
       "['BRU Instant Coffee 50 g',\n",
       " 'Beanies Creamy Caramel Flavoured Instant Coffee 50 g',\n",
       " 'Beanies Double Chocolate Flavour Instant Coffee 50 g',\n",
       " 'Beanies Very Vanilla Flavour Instant Coffee 50 g',\n",
       " 'Colombian Brew Coffee Premix Cappuccino, Hazelnut, Vanilla Caramel, Double Choco Mocha, Cambridge Tea Party Masala Chai Premix, Christopher Cocoa Hot Cocoa Mix 10 3 in 1 Instant Premix Sachets Box x 6',\n",
       " 'Colombian Brew Blueberry Chocolate Mocha Instant Coffee Powder, No Sugar Vegan, 100g',\n",
       " 'Colombian Brew High Caffeine Espresso Instant Coffee Powder, Strong, 50g',\n",
       " 'Colombian Brew Vanilla Instant Coffee Powder, No Sugar Vegan, 50g',\n",
       " 'Colombian Brew Ice Mint Instant Coffee Powder, No Sugar Vegan, 50g',\n",
       " 'Colombian Brew Hazelnut Instant Coffee Powder, No Sugar Vegan, 50gm',\n",
       " 'Nutrovally Unroasted Green Coffee Beans Powder For Weight Loss Instant Coffee - 100 (Pack of 2)',\n",
       " 'Davidoff Fine Aroma Elegant and Fragrant Instant Coffee 100 g',\n",
       " 'Monster Energy Drink 350 ml',\n",
       " 'Coolberg Non Alcoholic Strawberry Beer 330 ml',\n",
       " 'Winola Cocoa Powder - Natural, Unsweetened & Vegan (1 kg)',\n",
       " 'Paper Boat Chilli Guava Fruit Juice 200 ml',\n",
       " 'Raw Pressery Cold Pressed Mixed Fruit Juice 1 L',\n",
       " 'Weikfield Drinking Chocolate Powder 100 g',\n",
       " \"Women's Horlicks Chocolate 400 g\",\n",
       " 'Horlicks Protein Plus Chocolate 200 g',\n",
       " 'Christopher Cocoa, Drinking Chocolate Cocoa Powder, Dark No Sugar, 100g Buy 3 Get 1 Free',\n",
       " 'Aquafina Packaged Drinking Water 1 L',\n",
       " 'Aquafina Packaged Drinking Water 500 ml',\n",
       " 'Girnar Royal Cup Tea 250 g',\n",
       " 'Red Label Natural Care Tea 1 kg',\n",
       " 'Wagh Bakri Green Tea 100 g',\n",
       " 'Eco Valley Organic Tulsi Green Tea Bags 30 pcs',\n",
       " 'TGL Co. Kadak Masala Chai 100 g',\n",
       " 'Granules n Beans Masala Chai Instant tea Premix - (10 Sachet x 14g = 140g) (Pack of 2)',\n",
       " 'Granules n Beans Assorted Chai (Cardamom, Ginger, Lemongrass Ginger, Masala) Instant Tea Premix - (10 Sachet x 14g = 140g)',\n",
       " 'All In One Lemon Tea Premix With Sulphur Less Sugar, 25 Pouches',\n",
       " 'VAHDAM Tea Bags Assortment - Sampler Trial Pack | Tea Assortment of 15 Premium Tea Bags | Immunity Tea Range | Boost Immune System',\n",
       " 'TGL Co. Bombay Cutting Chai Instant Tea Premix with Cardamom and Ginger, 14 Sachets (196 Grams)',\n",
       " 'MindBrew Strong Golden Premium Assam Tea Leaf, 500 grams Black Tea Pouch',\n",
       " 'Tea Treasure 28 Days Detox Tea -18 Pyramid Tea Bags | Blended with Garcinia Cambogia, Moringa, Cinnamon, Licorice, Oolong and Many More | Reduce Belly Fat | Skin Glow | Immunity Booster Detox Tea Bags | Herbal Tea | 1 Teabox',\n",
       " 'Dancing Leaf Menstrual Soothing Tea, 100g',\n",
       " 'Dabri Slimming Tea 100 grams pouch',\n",
       " 'The Tea Trove- Organic Valerian Root Sleep Tea for insomnia and Relaxation',\n",
       " 'Creative Colouring book 10 Books Pack Paperback 160 Pages',\n",
       " 'Police Shaped Baby Board Book Pegasus Board book 10 Pages',\n",
       " 'Books For Learning English Grammar, Vocabulary, Computer, Hindi And EVS For Children Paperback 464 Pages',\n",
       " 'First Padded Board Books Gift  Set of 5 Books - Fruit, Vegetables, My Body, First Word Book, Nursery Rhymes Dreamland Publications 120 Pages',\n",
       " 'Wings of Fire: An Autobiography of Abdul Kalam',\n",
       " 'STD 7 Perfect History And Civics Notes And Workbook, English Medium, Maharashtra State Board Books',\n",
       " 'STD 6 Perfect Notes History - Civics And Geography Book, English Medium, Maharashtra State Board',\n",
       " 'STD 10 Precise Notes Science 2 Book, English And Semi English Medium, SSC Maharashtra State Board',\n",
       " 'STD 10 Perfect Notes Geography Book, English Medium, SSC Maharashtra State Board Paperback 160 Pages',\n",
       " 'STD 10 Perfect Notes Maths 1 Book, English And Semi English Medium, SSC Maharashtra State Board',\n",
       " 'STD 10 Precise Notes Science 1 Book, English And Semi English Medium, SSC Maharashtra State Board',\n",
       " 'STD 10 Science And Technology- 1 - Vigyan Important Question Bank - IQB Book, Marathi Medium',\n",
       " 'STD 10 Question Bank Solutions- Math 1, 2 And Science 1, 2 Question Bank SSC Maharashtra State Board',\n",
       " 'STD 10 Perfect Notes Maths 2 Book, English And Semi English Medium, SSC Maharashtra State Board',\n",
       " 'STD 10 Perfect Notes Sanskrit Aamod - Entire 100 Marks Book, All Mediums, SSC Maharashtra Board',\n",
       " 'STD 10 Science And Technology - Vigyan 1 And 2 Important Question Bank - IQB Book, Marathi Medium',\n",
       " 'STD 10 Perfect Notes Science 2 Book, English And Semi English Medium, SSC Maharashtra State Board',\n",
       " 'STD 10 Perfect Notes Marathi Aksharbharati Book, English Medium, SSC Maharashtra State Board',\n",
       " 'STD 10 Perfect Notes Science 1 Book, English And Semi English Medium, SSC Maharashtra State Board',\n",
       " 'STD 11 Arts Books- Economics, English Maths 1, 2 Smart Notes FYJC Arts Guide Maharashtra State Board',\n",
       " 'STD 10 Precise Notes History, Political Science And Geography Book, English Medium Paperback',\n",
       " 'STD 10 Science And Technology 1 And 2 Important Question Bank - IQB Book, English Medium Paperback',\n",
       " 'STD 12 Arts Books - Economics, English, Maths 1 And 2, SYJC Arts Guide, HSC Maharashtra State Board',\n",
       " 'STD 12 English Yuvakbharati Book, Commerce, Science And Arts, HSC Maharashtra Board Paperback',\n",
       " 'Textbook Of Practice Of Medicine With Homoeopathic Therapeutics, Kamal Kansal, Hardcover 785 Pages',\n",
       " 'Success Mantra For Successful Homoeopathic Prescribing - Tips And Tricks, Paperback 612 Pages',\n",
       " 'Puff Master Freshly Baked Rusk 300 g',\n",
       " \"The Baker's Dozen 100% Wholewheat Lavash 100 g\",\n",
       " 'American Garden Plain Bread Crumbs 425 g',\n",
       " 'The Laughing Cow Plain Cheese Spread 180 g (Container)',\n",
       " 'The Laughing Cow Cheese Cubes 120 g (Carton)',\n",
       " 'Delicious Fat Spread 100 g (Carton)',\n",
       " 'Epigamia Natural Greek Yogurt 90 g (Cup)',\n",
       " 'Epigamia Wild Raspberry Greek Yogurt 90 g (Cup)',\n",
       " 'Amul Lite Milk Fat Spread 100 g (Carton)',\n",
       " 'Milky Mist Elaichi Shrikhand 100 g (Cup)',\n",
       " 'Sunfeast Dark Fantasy Belgian Chocolate Shake 300 ml (Pet Bottle)',\n",
       " 'Bhumi Organic Vedic Bilona Two Way Hand Churned A2 Gir Cow Cultured Ghee - 1 Ltr, Pack of 2',\n",
       " 'Soyfit Tofu Supreme Chilli 200g',\n",
       " 'Trueganic Basil (Approx 20 g - 50 g)',\n",
       " 'Ambi Pur Car Lavender Spa Car Freshener Refill 7.5 ml',\n",
       " 'Godrej Aer Twist Fresh Lush Green Car Freshener Gel 45 g',\n",
       " 'Godrej Aer Twist Petal Crush Pink Car Freshener Gel 45 g',\n",
       " 'CRODOR Cotton Laundry Bag | Dirty Clothes Organizer | Clothes Storage Travel Essentials| Laundry Liner College Essentials Laundry Hamper or Basket | Portable | Machine Washable (Pack of 1, Off White)',\n",
       " 'Easyhome Furnish Stainless Steel Towel Ring Napkin Stand Towel Holder Napkin Ring Cloth Hanger Bathroom Accessories (Chrome Finish, Anti Rust) Towel ring-03',\n",
       " 'Plastic Multipurpose Water Storage Bucket for Bathroom and Home -12ltr(Blue)',\n",
       " 'Foora lock and key door lock for home link round 65mm padlock with 5 keys each for shop, gate ,shutter Pack of 2',\n",
       " 'NBS Gloves Silicone Dish Washing Gloves for Kitchen Dishwashing and Pet Grooming(Multicolour, Pack of 1)',\n",
       " 'TYGIEL Highball Glasses for Drinking Cocktail, Juice, Milkshake, Coke, Soda, Beer, Whiskey, Dishwasher Safe, Set of 6   (300ml each), Transparent',\n",
       " 'TuelipPrintedDesignof\"N\"AlphabetforCeramicCoffeeMug',\n",
       " 'Bataniya Melamine UnbreakableSquare Serving Bowl Set of 6 Pieces, Pink Floral',\n",
       " 'BP Bharat Bone China Semi Deluxe Gold Coffee Mug, 6-Piece, 125 ml, Service for 6, White and Gold',\n",
       " 'The Honest Home Company Reusable Baking and Cooking Parchment Paper, 21 M, Silver',\n",
       " 'The Honest Home Company Baking Paper White Precut Sheet for Cooking and Baking, Reusable Can be Used as Parchment Paper for Oven - 50 Sheets',\n",
       " 'Freshee Extra Strong Aluminium Silver Foil Container with Lid, 600ml, pack of 2 x 10pcs each',\n",
       " 'Kuber Industries Large 15 Biodegradable Garbage Bags, Dustbin Bags, Trash Bags For Kitchen, Office, Warehouse, Pantry or Washroom, 24x30 Inches (Black)',\n",
       " 'Kuber Industries Large 120 Biodegradable Garbage Bags, Dustbin Bags, Trash Bags For Kitchen, Office, Warehouse, Pantry or Washroom, 24x30 Inches (Black)',\n",
       " 'Kuber Industries Large 105 Biodegradable Garbage Bags, Dustbin Bags, Trash Bags For Kitchen, Office, Warehouse, Pantry or Washroom, 24x30 Inches (Black)',\n",
       " 'Kuber Industries Leaf Printed 7 Feet Door Curtain For Living RoomWith 8 Eyelet,Pack of 2 (Blue)',\n",
       " 'Homefab India 144 TC Microfiber Single Bedsheet with 1 Pillow Cover - Aqua, Floral',\n",
       " 'Homefab India 140 TC Microfiber Single Bedsheet with 1 Pillow Cover -Heart, Light Blue',\n",
       " 'Homefab India 120 TC Microfiber Single Bedsheet with 1 Pillow Cover - Polka, Royal Blue',\n",
       " 'Homefab India 144 TC Microfiber Single Bedsheet with 1 Pillow Cover - Abstract, Blue',\n",
       " 'KINOKI Egg Boiler Electric Automatic Off 7 Egg Poacher for Steaming, Cooking, Boiling and Frying, Blue,',\n",
       " 'Cihlex For Girl And Men Wireless Bluetooth Earphone Neckband 205Bt Bluetooth Headset (Black, In The Ear)',\n",
       " 'Cihlex C-51 Super Bass Bluetooth Earphones Neckband Headphones Long Lifes Battery Bluetooth Headset (Green, In The Ear)',\n",
       " 'Cihlex Live 1000 15Hrs Play With Deep Bass, Ergonomic Neckband With Mic Bluetooth Headset (Black, In The Ear)',\n",
       " 'Cihlex Bt 25 Good Bass Bluetooth Neckband With Long Life Battery 25Hr Bluetooth Headset (Black, In The Ear)',\n",
       " 'Simxen Egg Boiler Electric Automatic Off 7 Egg Poacher for Steaming, Cooking Also Boiling and Frying, Multi Colour',\n",
       " 'Cihlex Ch-271 24Hr Long Life Battery Classical Sound With Mic Bluetooth Headphone Bluetooth Headset (Black, In The Ear)',\n",
       " 'Cihlex C-45 Earbuds Earpods With Power Bank Charging Case And Bluetooth Headphone Bluetooth Headset (Black, True Wireless)',\n",
       " 'Cihlex 25 Hours Long Life Battery Backup Bluetooth Neckband Headphones Classical Sound Bluetooth Headset (Grey, In The Ear)',\n",
       " 'Cihlex C-50 Super Bass Bluetooth Earphones Neckband Headphones Long Lifes Battery Bluetooth Headset (Green, In The Ear)',\n",
       " 'Cihlex Ch-25 Earbuds Earpods And Power Bank Charging Case And Bluetooth Neckband Headphone Bluetooth Headset (Black, True Wireless)',\n",
       " 'Cihlex C-52 Super Bass Bluetooth Earphones Neckband Headphones Long Lifes Battery Bluetooth Headset (Green, True Wireless)',\n",
       " 'Cihlex C-50 Earbuds Earpods With Power Bank Charging Case And Bluetooth Headphone Bluetooth Headset (Black, True Wireless)',\n",
       " 'Dekorly Set of 2 Artificial Colorful Decorative Bonsai plant with Vintage Metallic look pot for living room, table, shelves, office decor',\n",
       " 'RTWARE Scented Heart Shape Tealight Candle 3 hrs Burning (Pack of 30)',\n",
       " 'JaipurCrafts Brass Gramophone Showpiece, 17 CM, Gold, 1 Piece',\n",
       " 'Betala Fragrance Chandan Flavour Backflow Incense Dhoop Cones, Pack of 100 Pcs',\n",
       " 'Amar Impex Blue Nexus Plastic Vegetable Chopper 750 ml',\n",
       " 'Amar Impex Blue Nexus Plastic Vegetable Chopper 500 ml',\n",
       " 'Flair Smart Assorted Colour Rectangular Plastic Container 1 L',\n",
       " 'Capital Kitchenware Plastic Multicolor 2 Section Push Button Storage Container (Set of 2, 2200 ml)',\n",
       " 'Amour Silicone Preservation Magic Kneading Dough Flour-Mixing Atta Maker Bag for Chapathy, Bread etc',\n",
       " 'PEARLPET Checkered Airtight Jar Container Set of 18, 200 ml, 500 ml, 1000 ml, Transparent, Plastic',\n",
       " 'PEARLPET Checkered Airtight Jar Container Set of 12, 200 ml, 500 ml, 1000 ml, Transparent, Plastic',\n",
       " 'Vinod Cookware Sandwich Bottom Stainless Steel Induction Friendly Inner Lid Pressure Cooker, 7 Ltr',\n",
       " 'HAZEL Stainless Steel Parat | Steel Parat For Dough Flour Kneading|Atta Parat Steel For Kitchen, 29 cm, 2000 ML',\n",
       " 'Metal 2-Tier Countertop Fruit and Vegetable Storage Basket Holder- Black',\n",
       " 'Ice Ball Maker Reusable Ice Ball Form, Easy Release Round Silicone Ice Sphere Tray with Lids for Whiskey, Cocktails, Bourbon',\n",
       " 'Kuber Industries Check Deisgn Lid  Multi Purpose Plastic Container,1200ml,Set of 3 (Grey)',\n",
       " 'Kuber Industries Check Deisgn Lid Multi Purpose Plastic Container,1500ml,Set of 3 (Grey)',\n",
       " '12pcs Set Xllent Containers for Kitchen Storage Plastic Unbreakable Airtight 500ml',\n",
       " '12pcs Set Xllent Containers for Kitchen Storage Plastic Unbreakable Airtight 900ml',\n",
       " 'Pioneer Gasket Compatible With Prestige Svachh 5 Litres Outer Lid Pressure Cooker (Pack of 2)',\n",
       " 'User Choise Brown Round Plastic Storage Container Gift Set (Set of 12)',\n",
       " 'Carliber Multicolor Stainless Steel Airtight Leakproof Square Shape Lunch Box With Spoon For School,Office And College',\n",
       " 'SHOP BY ROOM Off White Color Extra Large Wet and Dry Floor Cleaning Cloth,Pottu, Pocha -18 inch x 18 inch - Pack of 4',\n",
       " 'SHOP BY ROOM Off White Color Extra Large Wet and Dry Floor Cleaning Cloth,Pottu, Pocha -26 inch x 26 inch - Pack of 4',\n",
       " 'Shop By Room 350 GSM Microfibre Cleaning Cloth - 40 cm x 40 (Multi Color, Pack of 4',\n",
       " 'Shubhkart Brass Kuber Goblet 105 g',\n",
       " 'Mangaldeep Lavender Agarbatti 76 pcs',\n",
       " 'Shubhkart Haldi Powder 50 g',\n",
       " 'Shubhkart Vibhuti Powder 100 g',\n",
       " 'Hari Darshan Pure 100% Natural Devgandh Sambrani Cups (Pack of 2, 12 Cups in Each)',\n",
       " 'The Aroma Factory Gugal Dhoop Batti Sticks ,100gm, 1 bottle',\n",
       " 'Hem Precious Intimate Agarbatti 100 g',\n",
       " 'Deli Adhesive Bright Colours Sticky Notes, Detachable & Repositionable Rectangle Shape Tab Memo Pad',\n",
       " 'Deli Adhesive Bright Colour Sticky Notes, Detachable & Repositionable Rectangle Shape Tab Memo Pad',\n",
       " 'Pmw - Empty Oil cans for Sewing Machines - 100 Ml Cans - 10 Cans - Sewing Machine Empty Oil Can',\n",
       " 'Eduway Medium Grain 10x12 inch Cotton Black Canvas Board- Pack of 1, (25x30 cms) with 4mm MDF Board Backing, For Painting.',\n",
       " 'Toyxe Multicolor Paper, Aluminium, Rubber Happy Birthday Letter Balloons, Square Cuttings Backdrop Curtain, Foil Balloons, Metallic Balloons',\n",
       " 'MONOPOLY Multicolor Classic Fantasy Board Game Play for Families and Kids Ages 8 and Up,',\n",
       " 'Webby Foldable Hut Shaped Slide Toy for Kids at Home, School & Garden with Basket Ball Ring, Multicolor, Medium (SLDWB)',\n",
       " 'Jaspo Multicolor Outdoor Sport Bicycle Breathable Cycling Helmet, S',\n",
       " 'Glass Chess Game Set - Clear and Blue Pieces and Magnetic Board, Multi Games - 10 Inch',\n",
       " 'Parteet Cash Cannon Money Gun For Wedding, Parties And Fun Include 100 Fake Dollar- Red- Multi Color',\n",
       " 'PowerMax Fitness 4mm Thick Premium Exercise Grey Color Yoga Mat, Ultra-Dense Cushioning for Support',\n",
       " 'Pmw - Panther Brand, Tiger Brand, Peacock Brand, Cycle Brand etc 5 Different Brands Of Slate Pencils -Stationery Slate Pencil Natural Lime Stone Chalk - Each 1 box - Total 5 Boxes',\n",
       " 'Enorme 60 Pcs Domino Train , Rally Model with Lights and Bulding Construction and Stacking Toys',\n",
       " 'Boldfit Yoga Mat for Women and Men with Carry Strap, Extra Thick Exercise mat for Workout , Grey 6mm',\n",
       " 'Boldfit Yoga Mat for Women and Men Thick Exercise mat for Workout Yoga Fitness Pilates, Grey Colour',\n",
       " 'Boldfit Compact Gym Shaker Bottle, Shaker Bottles For Protein Shake, 500ml',\n",
       " 'Big Size 65CM Funny Star Wars Unicorn Stuffed Animal Plush Toy, Safe for Kids, Soft Toy, Pink',\n",
       " 'Duck Toys Bath Tub Chu Chu Bath Baby Made in Safe Non-Toxic Rattle for New Born Baby Children Infant Products Best for Baby First Toys',\n",
       " 'Harpic Hygienic Lavender Toilet Rim Block 26 g',\n",
       " 'Savlon Surface Disinfectant Spray 170 g']"
      ]
     },
     "execution_count": 192,
     "metadata": {},
     "output_type": "execute_result"
    }
   ],
   "source": [
    "product_name_dup_bb"
   ]
  },
  {
   "cell_type": "code",
   "execution_count": 135,
   "id": "c21d44d8-fa2c-49d0-9520-67fd14cf9c6c",
   "metadata": {},
   "outputs": [],
   "source": [
    "pd.DataFrame(np.reshape(product_name_dup,[len(product_name_dup),1]),columns=['duplicated_titles']).to_csv('duplicated_titles.csv')"
   ]
  },
  {
   "cell_type": "code",
   "execution_count": 136,
   "id": "473c2207-6deb-4308-9994-233f0c22365c",
   "metadata": {},
   "outputs": [
    {
     "data": {
      "text/plain": [
       "(1, 1)"
      ]
     },
     "execution_count": 136,
     "metadata": {},
     "output_type": "execute_result"
    }
   ],
   "source": [
    "np.shape(product_name_dup)"
   ]
  },
  {
   "cell_type": "code",
   "execution_count": null,
   "id": "bd364209-2c7c-4638-ac0e-cc4033f42f53",
   "metadata": {},
   "outputs": [],
   "source": [
    "for product_names in product_name_dup[:100]:\n",
    "    if len(product_names)>1:\n",
    "        for product_name in product_names:\n",
    "            print(product_name)\n",
    "            if any(data_jio['Product Name']==product_name):\n",
    "                print('Found in jio')\n",
    "            if any(data_bb['Product Name']==product_name):\n",
    "                print('Found in bb')\n",
    "    else:\n",
    "        if any(data_jio['Product Name']==product_names[0]):\n",
    "                print('Found in jio')\n",
    "        if any(data_bb['Product Name']==product_names[0]):\n",
    "                print('Found in bb')"
   ]
  },
  {
   "cell_type": "code",
   "execution_count": 190,
   "id": "44d80c23-3c27-4658-8390-1f09d1b4db32",
   "metadata": {},
   "outputs": [],
   "source": [
    "for product_names in product_name_dup:\n",
    "    if len(product_names)>1:\n",
    "        for product_name in product_names:\n",
    "            if any(data_jio['Product Name']==product_name) and any(data_bb['Product Name']==product_name):\n",
    "                print('Found in jio and bb')\n",
    "                print(product_name)\n",
    "    else:\n",
    "        if any(data_jio['Product Name']==product_names[0]) and any(data_bb['Product Name']==product_names[0]):\n",
    "                print('Found in jio and bb')\n",
    "                print(product_name)"
   ]
  },
  {
   "cell_type": "code",
   "execution_count": 162,
   "id": "9c0e911e-b26b-4bb8-ac66-3e14371b5419",
   "metadata": {},
   "outputs": [
    {
     "data": {
      "text/plain": [
       "['Pigeon Baby Moisturizing Lotion 200 ml']"
      ]
     },
     "execution_count": 162,
     "metadata": {},
     "output_type": "execute_result"
    }
   ],
   "source": [
    "product_names"
   ]
  },
  {
   "cell_type": "code",
   "execution_count": null,
   "id": "5824359d-507a-43ad-a083-8734c2e4c24b",
   "metadata": {},
   "outputs": [],
   "source": []
  },
  {
   "cell_type": "code",
   "execution_count": null,
   "id": "debccb17-27f6-42eb-80fc-88217e38488f",
   "metadata": {},
   "outputs": [],
   "source": []
  },
  {
   "cell_type": "code",
   "execution_count": null,
   "id": "b72b834d-5048-4185-b00d-3cb5b91e5506",
   "metadata": {},
   "outputs": [],
   "source": []
  },
  {
   "cell_type": "code",
   "execution_count": 85,
   "id": "60785ae1-3962-4bac-9ac3-1188ac71226d",
   "metadata": {},
   "outputs": [],
   "source": [
    "list_net_quantity_jio_product_name_dup=[]\n",
    "for product_name in product_name_dup:\n",
    "    list_net_quantity_jio_product_name_dup.append(data_jio['Net Quantity'].loc[data_jio['Product Name']==product_name[0]].values)"
   ]
  },
  {
   "cell_type": "code",
   "execution_count": null,
   "id": "87ccc80f-cc0b-4932-83b6-ca8ee240cc8a",
   "metadata": {},
   "outputs": [
    {
     "data": {
      "text/plain": [
       "[array([nan], dtype=object),\n",
       " array(['100gm'], dtype=object),\n",
       " array(['156 g'], dtype=object),\n",
       " array([1], dtype=object),\n",
       " array([1], dtype=object),\n",
       " array([nan], dtype=object),\n",
       " array([1], dtype=object),\n",
       " array([nan], dtype=object),\n",
       " array([nan], dtype=object),\n",
       " array([1], dtype=object)]"
      ]
     },
     "execution_count": 87,
     "metadata": {},
     "output_type": "execute_result"
    }
   ],
   "source": [
    "list_net_quantity_jio_product_name_dup[:10]"
   ]
  },
  {
   "cell_type": "code",
   "execution_count": null,
   "id": "41f9b2db-73e5-46bb-8bac-32d3d6283271",
   "metadata": {},
   "outputs": [],
   "source": []
  },
  {
   "cell_type": "code",
   "execution_count": 175,
   "id": "edf608e8-6352-4e4f-b4ae-d0e1e6043894",
   "metadata": {},
   "outputs": [
    {
     "name": "stdout",
     "output_type": "stream",
     "text": [
      "Nutty Yogi\n",
      "Bob's Red Mill\n",
      "Jiwa\n",
      "Qualinut Gourmet\n",
      "Nutriwish\n",
      "Double Horse\n",
      "Manna\n",
      "Nature Fresh\n",
      "Aashirvaad\n",
      "Fortune\n",
      "Pillsbury\n"
     ]
    }
   ],
   "source": [
    "list_title_jio_brand_dup = []\n",
    "for brand in brands_dup:\n",
    "    print(brand[0])\n",
    "    list_title_jio_brand_dup.append(data_jio['title'].loc[data_jio['brand']==brand[0]].values)"
   ]
  },
  {
   "cell_type": "code",
   "execution_count": 189,
   "id": "205c2a69-f656-4cb7-b0c8-03db5fd8aa15",
   "metadata": {},
   "outputs": [
    {
     "data": {
      "text/plain": [
       "[array(['Nutty Yogi Buckwheat Flour/ Kuttu Atta 500g Pack of 2(Vrat ka Atta)',\n",
       "        'Nutty Yogi Sorghum Flour / Jowar Atta',\n",
       "        'Nutty Yogi Gluten Free Super Lite Flour 500g each Pack of 3'],\n",
       "       dtype=object),\n",
       " array([\"Bob's Red Mill Organic Coconut Flour 453 g\"], dtype=object),\n",
       " array(['Jiwa Gluten Free Maida, 4.5Kg (Pack of 5)',\n",
       "        'Jiwa Gluten Free Atta, 5Kg (1Kg x 5 packets)',\n",
       "        'Jiwa Multigrain Atta 5Kg (1Kg x 5 packets)',\n",
       "        'Jiwa Diabetic Care Atta 5Kg (Pack of 5)',\n",
       "        'Jiwa Organic Buckwheat Flour, 1 kg',\n",
       "        'Jiwa Organic Quinoa Flour, 900 Grams',\n",
       "        'Jiwa Organic Jowar Flour, 5Kg (Pack of 5)',\n",
       "        'Jiwa Organic Amaranth Flour, 1 kg', 'Jiwa Oats Flour, 900 Grams'],\n",
       "       dtype=object),\n",
       " array(['Natural Amaranth Flour (Rajgira Atta)',\n",
       "        'Qualinut Gourmet | Black Chana Flour (Sattu) | 500 G Each | Pack of Two',\n",
       "        'Qualinut Gourmet | Coconut Flour | 500 G',\n",
       "        'Qualinut Gourmet | Singhara Atta (Water Chestnut Flour) | 500 G Each | Pack of Two',\n",
       "        'Low Fat Flour (Gluten Free)'], dtype=object),\n",
       " array(['Nutriwish Chia Seeds Flour 250g'], dtype=object),\n",
       " array(['Double Horse Sambha Wheat Broken Daliya 500 g',\n",
       "        'Double Horse Puttu Podi 1kg',\n",
       "        'Double Horse White Puttu Podi 5kg | White Rice Flour For Funnel Cake| Soft & Fluffy Puttu',\n",
       "        'Double Horse White Puttu Podi (500 Grams)',\n",
       "        'Double Horse Appam/Idiyappam/Pathiri Rice Flour, 1 kg|Roasted Rice Flour',\n",
       "        'Double Horse Roasted Appam Powder | Roasted Rice Flour | Rice Flour | 500 Grams',\n",
       "        'Double Horse Easy Palappam Mix, 500g| Velleppam Mix| Export Quality',\n",
       "        'Double Horse Easy Idiyappam Powder 1Kg | Rice Flour| Normal Water Idiyappam Powder',\n",
       "        'Double Horse Easy Idiyappam Powder | 500g',\n",
       "        'Double Horse 1 Hour Idli/Dosa Batter Pre-Mix 500g',\n",
       "        'Double Horse Chemba Puttu Podi 1 KG |Funnel Cake Powder| Steam Cake Powder |Export Quality',\n",
       "        'Double Horse Chemba Puttu Podi (500 Grams, Pack of 2)| Export Quality'],\n",
       "       dtype=object),\n",
       " array(['Manna Diabetic Multi Millet Atta 1 kg',\n",
       "        'Manna Multigrain Atta | Multi Millet Atta 5Kg | Diabetic Friendly | Wheat Flour with 25% Millets',\n",
       "        'Manna Sprouted Ragi Flour, 900g | 100% Natural Sprouted Finger Millet Flour | Nachni Atta',\n",
       "        'Manna Multigrain Atta with 35% Oats| Diabetic Friendly Atta| 3kg',\n",
       "        'Manna Multigrain Atta| Multi Millet Atta 10Kg | Diabetic Friendly | Wheat Flour with 25% Millets',\n",
       "        'Manna Multigrain Atta with 35% Oats | Diabetic Friendly Atta | 1kg',\n",
       "        'Manna Ragi Flour, 1.8kg | Finger Millet Flour | Nachni Atta | Kelvaragu Flour'],\n",
       "       dtype=object),\n",
       " array(['Nature Fresh Sampoorna Chakki Whole Wheat Atta 5 kg',\n",
       "        'Nature Fresh Sampoorna Chakki Whole Wheat Atta 10 kg'],\n",
       "       dtype=object),\n",
       " array(['Aashirvaad Select Sharbati Whole Wheat Atta 5 kg',\n",
       "        'Aashirvaad Select Sharbati Whole Wheat Atta 1 kg',\n",
       "        'Aashirvaad Multigrain Atta 1 kg',\n",
       "        'Aashirvaad Multigrain Atta 5 kg',\n",
       "        'Aashirvaad Sugar Release Control Atta 5 kg',\n",
       "        'Aashirvaad Sugar Release Control Atta 1 kg',\n",
       "        'Aashirvaad Natures Super Foods Multi Millets Mix 500 g',\n",
       "        'Aashirvaad Superior MP Whole Wheat Atta 1 kg',\n",
       "        'Aashirvaad Superior MP Whole Wheat Atta 2 kg',\n",
       "        'Aashirvaad Superior MP Whole Wheat Atta 5 kg',\n",
       "        'Aashirvaad Superior MP Whole Wheat Atta 10 kg'], dtype=object),\n",
       " array(['Fortune Superfine Besan 500 g', 'Fortune Besan 1 kg',\n",
       "        'Fortune Chakki Fresh Atta 5 kg',\n",
       "        'Fortune Chakki Fresh Whole Wheat Atta 10 kg',\n",
       "        'Fortune Maida / Refined Wheat Flour 500 g',\n",
       "        'Fortune Rawa / Semolina 500 g'], dtype=object),\n",
       " array(['Pillsbury Chakki Fresh Atta / Flour 1 kg',\n",
       "        'Pillsbury Chakki Fresh Atta / Flour 10 kg',\n",
       "        'Pillsbury Multigrain Atta 1 kg', 'Pillsbury Multigrain Atta 5 kg'],\n",
       "       dtype=object)]"
      ]
     },
     "execution_count": 189,
     "metadata": {},
     "output_type": "execute_result"
    }
   ],
   "source": [
    "list_title_jio_brand_dup"
   ]
  },
  {
   "cell_type": "code",
   "execution_count": 204,
   "id": "2e4da964-0208-4c29-ab08-8bf56be70b38",
   "metadata": {},
   "outputs": [
    {
     "data": {
      "text/plain": [
       "3"
      ]
     },
     "execution_count": 204,
     "metadata": {},
     "output_type": "execute_result"
    }
   ],
   "source": [
    "len(list_title_jio_brand_dup[0])"
   ]
  },
  {
   "cell_type": "code",
   "execution_count": null,
   "id": "525c1466-b686-4ef9-ba7e-25363934e791",
   "metadata": {},
   "outputs": [],
   "source": []
  },
  {
   "cell_type": "code",
   "execution_count": 178,
   "id": "21d6fe17-07de-484c-8044-ce0f33c579c3",
   "metadata": {},
   "outputs": [
    {
     "name": "stdout",
     "output_type": "stream",
     "text": [
      "Nutty Yogi\n",
      "Bob's Red Mill\n",
      "Jiwa\n",
      "Qualinut Gourmet\n",
      "Nutriwish\n",
      "Double Horse\n",
      "Manna\n",
      "Nature Fresh\n",
      "Aashirvaad\n",
      "Fortune\n",
      "Pillsbury\n"
     ]
    }
   ],
   "source": [
    "list_title_bb_brand_dup = []\n",
    "for brand in brands_dup:\n",
    "    print(brand[0])\n",
    "    list_title_bb_brand_dup.append(data_bb['product_name'].loc[data_bb['brand']==brand[0]].values)"
   ]
  },
  {
   "cell_type": "code",
   "execution_count": 179,
   "id": "fb441e6c-b393-4ab6-8b61-f4dee0bfd3e9",
   "metadata": {},
   "outputs": [
    {
     "data": {
      "text/plain": [
       "[array(['Nutty Yogi Cheela Mix - Multi Millet, Gluten Free, 400 g',\n",
       "        'Nutty Yogi Amarant Cheela Mix - Gluten Free, 400 g',\n",
       "        'Nutty Yogi Gluten Free Buckwheat Flour, 1 kg'], dtype=object),\n",
       " array([], dtype=object),\n",
       " array(['Jiwa Banana Flour - 100% Natural, Resistant Starch, Gluten Free, 750 g',\n",
       "        'Jiwa Almond Flour - 100% Natural, Keto-Friendly, Gluten Free, 500 g'],\n",
       "       dtype=object),\n",
       " array(['Qualinut Gourmet Everyday Healthy Flour - Gluten Free, Mineral Rich, 1 kg Pouch',\n",
       "        'Qualinut Gourmet Oats Flour - Gluten Free, Rich In Antioxidants, 1 kg Pouch'],\n",
       "       dtype=object),\n",
       " array(['Nutriwish Quinoa Flour, 1 kg', 'Nutriwish Chia Seeds Flour,500 g',\n",
       "        'Nutriwish Chia Seeds Flour,250 g',\n",
       "        'Nutriwish Chia Seeds Flour,1 kg'], dtype=object),\n",
       " array(['Double Horse Flour - Rice, 500 g',\n",
       "        'Double Horse Wheat Broken Fine, 500 g Pouch',\n",
       "        'Double Horse Corn Puttu podi, 500 g',\n",
       "        'Double Horse Easy Idiyappam Powder, 500 g Pouch',\n",
       "        'Double Horse Puttupodi - Chemba, 500 g Pouch',\n",
       "        'Double Horse Chemba Puttu Podi, 1 kg',\n",
       "        'Double Horse Idiyappam - White, 100 g Pouch',\n",
       "        'Double Horse Samba Wheat Broken - Fine, 500 g Pouch',\n",
       "        'Double Horse Wheat - Samba Broken, 500 g Pouch',\n",
       "        'Double Horse Roasted Rava, 1 kg',\n",
       "        'Double Horse Appam Idiyappam Pathiri, 500 g Pouch',\n",
       "        'Double Horse Puttu Podi - White,1 kgPouch',\n",
       "        'Double Horse Puttu Podi - White,500 gPouch',\n",
       "        'Double Horse Rava - Roasted, 500 g Pouch'], dtype=object),\n",
       " array(['Manna Multigrain Atta - With 35% Oats, Loaded With Nutrients, Reduces Cholestrol, 1 kg',\n",
       "        'Manna Rice Flour/Akki Hittu, 500 g Pouch',\n",
       "        'Manna Sprouted Ragi Flour/Ragi Hittu, 500 g Pouch'], dtype=object),\n",
       " array(['Nature Fresh Sampoorna Chakki Atta/Godihittu,10 KgBag',\n",
       "        'Nature Fresh Sampoorna Chakki Atta/Godihittu,5 KgBag'],\n",
       "       dtype=object),\n",
       " array(['Aashirvaad Nature’s Superfoods Multi Millet Mix - Rich In Dietary Fibre,1 kgPouch',\n",
       "        'Aashirvaad Nature’s Superfoods Multi Millet Mix - Rich In Dietary Fibre,500 gPouch',\n",
       "        'Aashirvaad Nature’s Superfoods Gluten Free Flour - Rich In Dietary Fibre, Protein, Magnesium and Iron,1 kgPouch',\n",
       "        'Aashirvaad Nature’s Superfoods Gluten Free Flour - Rich In Dietary Fibre, Protein, Magnesium and Iron,500 gPouch',\n",
       "        \"Aashirvaad Nature's Super Foods - Ragi Flour/Ragi Hittu,1 kgPouch\",\n",
       "        \"Aashirvaad Nature's Super Foods - Ragi Flour/Ragi Hittu,500 gPouch\",\n",
       "        'Aashirvaad Sugar Release Control Atta/Godihittu,1 kg',\n",
       "        'Aashirvaad Sugar Release Control Atta/Godihittu,5 kg',\n",
       "        'Aashirvaad Atta with Multigrains - High Fibre,1 kgPouch',\n",
       "        'Aashirvaad Atta with Multigrains - High Fibre,5 kgPouch',\n",
       "        'Aashirvaad Atta with Multigrains - High Fibre,10 kg',\n",
       "        'Aashirvaad Select Sharbati Atta - Rich In Nutrients, For Soft and Fluffy Roti,1 kgPouch',\n",
       "        'Aashirvaad Select Sharbati Atta - Rich In Nutrients, For Soft and Fluffy Roti,5 kgPouch',\n",
       "        'Aashirvaad Select Sharbati Atta - Rich In Nutrients, For Soft and Fluffy Roti,10 kg',\n",
       "        'Aashirvaad Atta - Whole Wheat 5 kg + Iodised Salt 1 kg, Combo 2 Items',\n",
       "        'Aashirvaad Atta - Whole Wheat 10 kg + Iodised Salt 1 kg, Combo 2 Items',\n",
       "        'Aashirvaad Atta/Godihittu - Whole Wheat,1 kgPouch',\n",
       "        'Aashirvaad Atta/Godihittu - Whole Wheat,2 kgPouch',\n",
       "        'Aashirvaad Atta/Godihittu - Whole Wheat,5 kgPouch',\n",
       "        'Aashirvaad Atta/Godihittu - Whole Wheat,10 kgPouch'], dtype=object),\n",
       " array([], dtype=object),\n",
       " array(['Pillsbury Atta/Godihittu - Multigrain,1 kgPouch',\n",
       "        'Pillsbury Atta/Godihittu - Multigrain,5 kgPouch',\n",
       "        'Pillsbury Atta/Godihittu - Gold,1 kg',\n",
       "        'Pillsbury Atta/Godihittu - Gold,5 kgPouch',\n",
       "        'Pillsbury Atta - Multigrain 5 kg Pouch + Madhur Sugar - Natural, Sulphur Free 5 kg, Combo 2 Items',\n",
       "        'Pillsbury Atta - Gold 5 kg Pouch + Madhur Sugar - Natural, Sulphur Free 5 kg, Combo 2 Items',\n",
       "        'Pillsbury Atta/Godihittu - Chakki Fresh,1 kgPouch',\n",
       "        'Pillsbury Atta/Godihittu - Chakki Fresh,2 x 1 kgMultipack',\n",
       "        'Pillsbury Atta/Godihittu - Chakki Fresh,2 kgPouch',\n",
       "        'Pillsbury Atta/Godihittu - Chakki Fresh,5 kgPouch',\n",
       "        'Pillsbury Atta/Godihittu - Chakki Fresh,10 kgPouch'], dtype=object)]"
      ]
     },
     "execution_count": 179,
     "metadata": {},
     "output_type": "execute_result"
    }
   ],
   "source": [
    "list_title_bb_brand_dup"
   ]
  },
  {
   "cell_type": "code",
   "execution_count": null,
   "id": "39a523a6-691b-4762-9eaa-79c9a5d42cad",
   "metadata": {},
   "outputs": [],
   "source": []
  },
  {
   "cell_type": "code",
   "execution_count": null,
   "id": "8c3ffab8-4be1-4056-886d-750a0b4ca637",
   "metadata": {},
   "outputs": [],
   "source": []
  },
  {
   "cell_type": "code",
   "execution_count": 221,
   "id": "a3e2e090-db7e-4806-98af-1193d1043644",
   "metadata": {},
   "outputs": [],
   "source": [
    "perm_funcs = 256\n",
    "\n",
    "lsh = MinHashLSH(threshold=0.8, num_perm=perm_funcs)\n",
    "\n",
    "for idx,_ in enumerate(list_title_jio_brand_dup):\n",
    "    if len(list_title_jio_brand_dup[idx])>1:\n",
    "        for title in list_title_jio_brand_dup[idx]:\n",
    "            m = MinHash(num_perm=perm_funcs)\n",
    "            title_char_set = set(title)\n",
    "            for title_char in title_char_set:\n",
    "                m.update(title_char.encode('utf8'))\n",
    "            lsh.insert(title, m)\n",
    "    else:\n",
    "        m = MinHash(num_perm=perm_funcs)\n",
    "        title=str(list_title_jio_brand_dup[idx])\n",
    "        title_char_set = set(title)\n",
    "        for title_char in title_char_set:\n",
    "            m.update(title_char.encode('utf8'))\n",
    "        lsh.insert(title, m)\n",
    "\n",
    "titles_dup = []\n",
    "\n",
    "for idx,_ in enumerate(list_title_bb_brand_dup):\n",
    "    if len(list_title_bb_brand_dup[idx])>1:\n",
    "        for title in list_title_bb_brand_dup[idx]:\n",
    "            m = MinHash(num_perm=perm_funcs)\n",
    "            title_char_set = set(title)\n",
    "            for title_char in title_char_set:\n",
    "                m.update(title_char.encode('utf8'))\n",
    "            result = lsh.query(m)\n",
    "            if len(result)>0:\n",
    "                #print(result)   \n",
    "                titles_dup.append(result)\n",
    "    else:\n",
    "        m = MinHash(num_perm=perm_funcs)\n",
    "        title=str(list_title_bb_brand_dup[idx])\n",
    "        title_char_set = set(title)\n",
    "        for title_char in title_char_set:\n",
    "            m.update(title_char.encode('utf8'))\n",
    "        result = lsh.query(m)\n",
    "        if len(result)>0:\n",
    "            #print(result)   \n",
    "            titles_dup.append(result)\n"
   ]
  },
  {
   "cell_type": "code",
   "execution_count": 222,
   "id": "3892af2a-3330-423d-ac29-1718be1eb0d4",
   "metadata": {},
   "outputs": [
    {
     "data": {
      "text/plain": [
       "[['Double Horse Easy Idiyappam Powder | 500g'],\n",
       " ['Double Horse Puttu Podi 1kg'],\n",
       " ['Double Horse Sambha Wheat Broken Daliya 500 g'],\n",
       " ['Double Horse Puttu Podi 1kg'],\n",
       " ['Nature Fresh Sampoorna Chakki Whole Wheat Atta 10 kg',\n",
       "  'Nature Fresh Sampoorna Chakki Whole Wheat Atta 5 kg'],\n",
       " ['Aashirvaad Sugar Release Control Atta 1 kg'],\n",
       " ['Aashirvaad Sugar Release Control Atta 5 kg'],\n",
       " ['Aashirvaad Sugar Release Control Atta 1 kg'],\n",
       " ['Aashirvaad Sugar Release Control Atta 5 kg'],\n",
       " ['Aashirvaad Sugar Release Control Atta 1 kg'],\n",
       " ['Aashirvaad Superior MP Whole Wheat Atta 1 kg',\n",
       "  'Aashirvaad Superior MP Whole Wheat Atta 10 kg'],\n",
       " ['Aashirvaad Superior MP Whole Wheat Atta 5 kg',\n",
       "  'Aashirvaad Superior MP Whole Wheat Atta 2 kg'],\n",
       " ['Aashirvaad Superior MP Whole Wheat Atta 5 kg',\n",
       "  'Aashirvaad Superior MP Whole Wheat Atta 2 kg'],\n",
       " ['Aashirvaad Superior MP Whole Wheat Atta 1 kg',\n",
       "  'Aashirvaad Superior MP Whole Wheat Atta 10 kg'],\n",
       " ['Pillsbury Multigrain Atta 1 kg', 'Aashirvaad Multigrain Atta 1 kg'],\n",
       " ['Aashirvaad Multigrain Atta 5 kg', 'Pillsbury Multigrain Atta 5 kg'],\n",
       " ['Pillsbury Chakki Fresh Atta / Flour 10 kg',\n",
       "  'Pillsbury Chakki Fresh Atta / Flour 1 kg'],\n",
       " ['Pillsbury Chakki Fresh Atta / Flour 10 kg',\n",
       "  'Pillsbury Chakki Fresh Atta / Flour 1 kg']]"
      ]
     },
     "execution_count": 222,
     "metadata": {},
     "output_type": "execute_result"
    }
   ],
   "source": [
    "titles_dup"
   ]
  },
  {
   "cell_type": "code",
   "execution_count": null,
   "id": "08e358c5-f7a0-4202-893d-64595a40ffbe",
   "metadata": {},
   "outputs": [],
   "source": []
  },
  {
   "cell_type": "code",
   "execution_count": null,
   "id": "89791aa8-a729-4194-bbfb-fb1449e966e7",
   "metadata": {},
   "outputs": [],
   "source": []
  },
  {
   "cell_type": "code",
   "execution_count": null,
   "id": "2a1dfa9a-8ad2-4e6d-a4df-29ecf5fd5a8d",
   "metadata": {},
   "outputs": [],
   "source": []
  }
 ],
 "metadata": {
  "kernelspec": {
   "display_name": "Python 3 (ipykernel)",
   "language": "python",
   "name": "python3"
  },
  "language_info": {
   "codemirror_mode": {
    "name": "ipython",
    "version": 3
   },
   "file_extension": ".py",
   "mimetype": "text/x-python",
   "name": "python",
   "nbconvert_exporter": "python",
   "pygments_lexer": "ipython3",
   "version": "3.9.12"
  }
 },
 "nbformat": 4,
 "nbformat_minor": 5
}
